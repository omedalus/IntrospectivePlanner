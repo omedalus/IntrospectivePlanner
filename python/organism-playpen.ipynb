{
 "cells": [
  {
   "cell_type": "code",
   "execution_count": 1,
   "metadata": {
    "scrolled": false
   },
   "outputs": [
    {
     "name": "stdout",
     "output_type": "stream",
     "text": [
      "Initializing organism to game: El Maze Game 3x2\n",
      "[[0, 0, 0, 0], [0, 1, 1, 1], [1, 0, 0, 0], [0, 1, 0, 1], [0, 1, 0, 0]]\n",
      "{'sensors': ['FORWARD', 'LEFT', 'RIGHT', 'BACK', 'VICTORY'], 'actuators': ['GO', 'TURN LEFT', 'TURN RIGHT', 'TURN BACK']}\n",
      "[1, 0, 0, 0, 0]\n",
      "[1, 0, 0, 1, 0]\n",
      "[1, 0, 0, 1, 0]\n",
      "[0, 1, 0, 1, 0]\n",
      "[1, 1, 0, 0, 0]\n",
      "[1, 0, 0, 1, 0]\n",
      "[0, 0, 0, 0, 1]\n"
     ]
    }
   ],
   "source": [
    "import ipl \n",
    "\n",
    "game = ipl.games.ElMazeGame(3,2)\n",
    "organism = ipl.Organism()\n",
    "organism.verbosity = 1\n",
    "\n",
    "organism.init_game(game)\n",
    "organism.action_generator.generate()\n",
    "print(organism.action_generator.population)\n",
    "\n",
    "action_program = [\n",
    "    [1, 0, 0, 0],\n",
    "    [1, 0, 0, 0],\n",
    "    [1, 0, 0, 0],\n",
    "    [0, 1, 0, 0],\n",
    "    [1, 0, 0, 0],\n",
    "    [1, 0, 0, 0]\n",
    "]\n",
    "\n",
    "print(game.io_vector_labels())\n",
    "\n",
    "for pa in action_program:\n",
    "  print(game.sensors())\n",
    "\n",
    "  oa = organism.handle_sensor_input(game.sensors(), pa)\n",
    "  game.act(oa)\n",
    "    \n",
    "print(game.sensors())\n"
   ]
  },
  {
   "cell_type": "code",
   "execution_count": 2,
   "metadata": {
    "scrolled": true
   },
   "outputs": [
    {
     "data": {
      "text/plain": [
       "array([0.96135718])"
      ]
     },
     "execution_count": 2,
     "metadata": {},
     "output_type": "execute_result"
    }
   ],
   "source": [
    "organism.consequence_likelihood_estimator.predict([[1, 0, 0, 0, 0,    1, 0, 0, 0,      0, 0, 1, 1, 0]])\n",
    "\n"
   ]
  },
  {
   "cell_type": "code",
   "execution_count": 3,
   "metadata": {},
   "outputs": [],
   "source": [
    "organism.verbosity = 0\n",
    "for i in range(0, 1000):\n",
    "    game = ipl.games.ElMazeGame(3,2)\n",
    "\n",
    "    organism.init_game(game)\n",
    "    organism.action_generator.generate()\n",
    "\n",
    "    for pa in action_program:\n",
    "      oa = organism.handle_sensor_input(game.sensors(), pa)\n",
    "      game.act(oa)\n"
   ]
  },
  {
   "cell_type": "code",
   "execution_count": 4,
   "metadata": {},
   "outputs": [
    {
     "data": {
      "text/plain": [
       "array([1, 0, 1, 0, 1, 0, 0, 1, 0, 1])"
      ]
     },
     "execution_count": 4,
     "metadata": {},
     "output_type": "execute_result"
    }
   ],
   "source": [
    "import numpy\n",
    "numpy.random.randint(2, size=10\n",
    "                    )"
   ]
  }
 ],
 "metadata": {
  "kernelspec": {
   "display_name": "Python 3",
   "language": "python",
   "name": "python3"
  },
  "language_info": {
   "codemirror_mode": {
    "name": "ipython",
    "version": 3
   },
   "file_extension": ".py",
   "mimetype": "text/x-python",
   "name": "python",
   "nbconvert_exporter": "python",
   "pygments_lexer": "ipython3",
   "version": "3.6.7"
  }
 },
 "nbformat": 4,
 "nbformat_minor": 2
}
