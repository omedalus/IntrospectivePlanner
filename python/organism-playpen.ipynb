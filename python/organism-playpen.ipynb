{
 "cells": [
  {
   "cell_type": "code",
   "execution_count": 1,
   "metadata": {},
   "outputs": [],
   "source": [
    "import ipl \n",
    "\n",
    "organism = ipl.Organism()\n",
    "organism.verbosity = 1\n",
    "\n",
    "game = ipl.games.ElMazeGame(3,2)\n",
    "organism.configure(game.player_config())\n",
    "\n",
    "action_program = [\n",
    "    [1, 0, 0, 0],\n",
    "    [1, 0, 0, 0],\n",
    "    [1, 0, 0, 0],\n",
    "    [0, 1, 0, 0],\n",
    "    [1, 0, 0, 0],\n",
    "    [1, 0, 0, 0]\n",
    "]\n"
   ]
  },
  {
   "cell_type": "code",
   "execution_count": 8,
   "metadata": {
    "scrolled": true
   },
   "outputs": [
    {
     "name": "stdout",
     "output_type": "stream",
     "text": [
      "\n",
      "RUNNER: Turn 1\n",
      "ORGANISM: Received sensor input: [1, 0, 0, 0, 0]\n",
      "ORGANISM: Committing to action: ACTION: [1, 0, 0, 0] (-> 3 outcomes) $0.02\n",
      "Expected outcomes:\n",
      "\tOUTCOME: [1, 0, 0, 1, 0] (98% $0.00 = $0.00)\n",
      "\tOUTCOME: [0, 1, 0, 1, 1] ( 1% $1.00 = $0.02)\n",
      "\tOUTCOME: [0, 1, 1, 1, 0] ( 0% $0.00 = $0.00)\n",
      "\n",
      "RUNNER: Turn 2\n",
      "ORGANISM: Received sensor input: [1, 0, 0, 1, 0]\n",
      "ORGANISM: Experience repo size: 156\n",
      "ORGANISM: Committing to action: ACTION: [1, 0, 0, 0] (-> 3 outcomes) $0.50\n",
      "Expected outcomes:\n",
      "\tOUTCOME: [0, 1, 0, 1, 0] (50% $0.00 = $0.00)\n",
      "\tOUTCOME: [0, 0, 0, 0, 1] (49% $1.00 = $0.50)\n",
      "\tOUTCOME: [1, 0, 0, 1, 0] ( 0% $0.00 = $0.00)\n",
      "\n",
      "RUNNER: Turn 3\n",
      "ORGANISM: Received sensor input: [1, 0, 0, 1, 0]\n",
      "ORGANISM: Experience repo size: 159\n",
      "ORGANISM: Committing to action: ACTION: [1, 0, 0, 0] (-> 3 outcomes) $0.01\n",
      "Expected outcomes:\n",
      "\tOUTCOME: [1, 0, 0, 1, 0] (98% $0.00 = $0.00)\n",
      "\tOUTCOME: [0, 0, 0, 0, 1] ( 1% $1.00 = $0.01)\n",
      "\tOUTCOME: [0, 1, 0, 1, 0] ( 0% $0.00 = $0.00)\n",
      "\n",
      "RUNNER: Turn 4\n",
      "ORGANISM: Received sensor input: [0, 1, 0, 1, 0]\n",
      "ORGANISM: Experience repo size: 162\n",
      "ORGANISM: Committing to action: ACTION: [0, 1, 0, 0] (-> 3 outcomes) $0.10\n",
      "Expected outcomes:\n",
      "\tOUTCOME: [1, 1, 0, 0, 0] (89% $0.00 = $0.00)\n",
      "\tOUTCOME: [0, 1, 1, 0, 1] (10% $1.00 = $0.10)\n",
      "\tOUTCOME: [0, 1, 1, 0, 0] ( 0% $0.00 = $0.00)\n",
      "\n",
      "RUNNER: Turn 5\n",
      "ORGANISM: Received sensor input: [1, 1, 0, 0, 0]\n",
      "ORGANISM: Experience repo size: 165\n",
      "ORGANISM: Committing to action: ACTION: [1, 0, 0, 0] (-> 3 outcomes) $0.04\n",
      "Expected outcomes:\n",
      "\tOUTCOME: [1, 0, 0, 1, 0] (95% $0.00 = $0.00)\n",
      "\tOUTCOME: [0, 0, 0, 1, 1] ( 4% $1.00 = $0.04)\n",
      "\tOUTCOME: [0, 1, 1, 1, 1] ( 0% $1.00 = $0.00)\n",
      "\n",
      "RUNNER: Turn 6\n",
      "ORGANISM: Received sensor input: [1, 0, 0, 1, 0]\n",
      "ORGANISM: Experience repo size: 168\n",
      "ORGANISM: Committing to action: ACTION: [1, 0, 0, 0] (-> 3 outcomes) $0.00\n",
      "Expected outcomes:\n",
      "\tOUTCOME: [0, 1, 0, 1, 0] (60% $0.00 = $0.00)\n",
      "\tOUTCOME: [1, 0, 0, 1, 0] (39% $0.00 = $0.00)\n",
      "\tOUTCOME: [0, 0, 0, 0, 1] ( 0% $1.00 = $0.00)\n",
      "\n",
      "RUNNER: Predefined action sequence complete.\n",
      "ORGANISM: Received sensor input: [0, 0, 0, 0, 1]\n",
      "ORGANISM: Experience repo size: 171\n",
      "Repo size before consolidation: 171\n",
      "Repo size after consolidation: 167\n"
     ]
    }
   ],
   "source": [
    "game = ipl.games.ElMazeGame(3,2)\n",
    "\n",
    "organism.verbosity = 1\n",
    "organism.reset_state()\n",
    "for iturn, pa in enumerate(action_program):\n",
    "  print('\\nRUNNER: Turn {}'.format(iturn + 1))\n",
    "  organism.handle_sensor_input(game.sensors())\n",
    "\n",
    "  oa = organism.choose_action(pa)\n",
    "  if oa.outcomes and len(oa.outcomes):\n",
    "    print('Expected outcomes:')\n",
    "    for outcome in oa.outcomes:\n",
    "      print('\\t{}'.format(outcome))\n",
    "  else:\n",
    "    print('(Action has no outcomes)')\n",
    "\n",
    "  game.act(oa.actuators)\n",
    "  \n",
    "\n",
    "print()\n",
    "print('RUNNER: Predefined action sequence complete.')\n",
    "organism.handle_sensor_input(game.sensors())\n",
    "\n",
    "organism.maintenance()"
   ]
  },
  {
   "cell_type": "code",
   "execution_count": 3,
   "metadata": {},
   "outputs": [
    {
     "data": {
      "text/plain": [
       "{'sensors': ['FORWARD', 'LEFT', 'RIGHT', 'BACK', 'VICTORY'],\n",
       " 'actuators': ['GO', 'TURN LEFT', 'TURN RIGHT', 'TURN BACK']}"
      ]
     },
     "execution_count": 3,
     "metadata": {},
     "output_type": "execute_result"
    }
   ],
   "source": [
    "game.io_vector_labels()"
   ]
  },
  {
   "cell_type": "code",
   "execution_count": 4,
   "metadata": {
    "scrolled": true
   },
   "outputs": [
    {
     "name": "stdout",
     "output_type": "stream",
     "text": [
      "# learned vectors: 22\n"
     ]
    },
    {
     "data": {
      "text/plain": [
       "[([1, 0, 0, 0, 0], 158),\n",
       " ([0, 1, 0, 0, 1], 147),\n",
       " ([0, 0, 0, 0, 1], 144),\n",
       " ([0, 0, 0, 0, 0], 135),\n",
       " ([1, 0, 1, 0, 0], 134),\n",
       " ([0, 1, 0, 0, 0], 124),\n",
       " ([1, 0, 0, 0, 1], 121),\n",
       " ([0, 0, 1, 0, 0], 99),\n",
       " ([1, 1, 0, 0, 0], 99),\n",
       " ([0, 0, 1, 0, 1], 92),\n",
       " ([0, 1, 1, 0, 1], 89),\n",
       " ([1, 1, 0, 0, 1], 83),\n",
       " ([1, 0, 1, 0, 1], 82),\n",
       " ([0, 1, 1, 0, 0], 68),\n",
       " ([1, 0, 0, 1, 0], 62),\n",
       " ([1, 0, 1, 1, 0], 56),\n",
       " ([0, 1, 0, 1, 1], 50),\n",
       " ([1, 0, 0, 1, 1], 45),\n",
       " ([1, 1, 1, 0, 1], 35),\n",
       " ([1, 1, 0, 1, 1], 31),\n",
       " ([1, 1, 1, 0, 0], 22),\n",
       " ([0, 0, 1, 1, 0], 19),\n",
       " ([1, 0, 1, 1, 1], 15),\n",
       " ([0, 0, 0, 1, 0], 12),\n",
       " ([0, 0, 0, 1, 1], 8),\n",
       " ([0, 1, 0, 1, 0], 0),\n",
       " ([0, 1, 1, 1, 0], 0),\n",
       " ([1, 1, 0, 1, 0], 0),\n",
       " ([0, 1, 1, 1, 1], -8),\n",
       " ([0, 0, 1, 1, 1], -13),\n",
       " ([1, 1, 1, 1, 0], -22)]"
      ]
     },
     "execution_count": 4,
     "metadata": {},
     "output_type": "execute_result"
    }
   ],
   "source": [
    "print('# learned vectors: {}'.format(len(organism.experience_repo.experiences)))\n",
    "retval = []\n",
    "\n",
    "for i in range(0,31):\n",
    "    a = [int(x) for x in list('{:05b}'.format(i))]\n",
    "    est = organism.outcome_likelihood_estimator.estimate( ipl.nnplanner.Experience([0, 1, 0, 1, 0], [0, 1, 0, 0],  a))\n",
    "    retval.append( (a, int(est*100) ) )\n",
    "\n",
    "retval.sort(key=lambda x: -x[1])\n",
    "retval"
   ]
  },
  {
   "cell_type": "code",
   "execution_count": 5,
   "metadata": {},
   "outputs": [
    {
     "name": "stdout",
     "output_type": "stream",
     "text": [
      "Run #0\n",
      "Run #1\n",
      "Run #2\n",
      "Run #3\n",
      "Run #4\n",
      "Run #5\n",
      "Run #6\n",
      "Run #7\n",
      "Run #8\n",
      "Run #9\n"
     ]
    }
   ],
   "source": [
    "organism.verbosity = 0\n",
    "for i in range(0, 10):\n",
    "    print('Run #{}'.format(i))\n",
    "    game = ipl.games.ElMazeGame(3,2)    \n",
    "\n",
    "    organism.reset_state()\n",
    "    for pa in action_program:\n",
    "      organism.handle_sensor_input(game.sensors())\n",
    "      oa = organism.choose_action(pa)\n",
    "      game.act(oa.actuators)\n",
    "    \n",
    "\n",
    "    organism.handle_sensor_input(game.sensors())\n",
    "    organism.maintenance()\n",
    "    "
   ]
  },
  {
   "cell_type": "code",
   "execution_count": 6,
   "metadata": {},
   "outputs": [
    {
     "data": {
      "text/plain": [
       "153"
      ]
     },
     "execution_count": 6,
     "metadata": {},
     "output_type": "execute_result"
    }
   ],
   "source": [
    "len(organism.experience_repo)"
   ]
  },
  {
   "cell_type": "code",
   "execution_count": 7,
   "metadata": {},
   "outputs": [
    {
     "data": {
      "text/plain": [
       "[([0, 0, 0, 0, 1], 36),\n",
       " ([0, 1, 0, 1, 0], 36),\n",
       " ([1, 0, 0, 1, 0], 35),\n",
       " ([0, 1, 1, 1, 1], 16),\n",
       " ([0, 1, 1, 1, 0], 8),\n",
       " ([0, 1, 1, 0, 1], 6),\n",
       " ([0, 0, 1, 1, 1], 1),\n",
       " ([1, 1, 0, 0, 0], 1),\n",
       " ([1, 1, 0, 0, 1], 1),\n",
       " ([0, 0, 0, 0, 0], 0),\n",
       " ([0, 0, 0, 1, 0], 0),\n",
       " ([0, 0, 0, 1, 1], 0),\n",
       " ([0, 0, 1, 0, 1], 0),\n",
       " ([0, 1, 0, 0, 0], 0),\n",
       " ([0, 1, 0, 0, 1], 0),\n",
       " ([0, 1, 0, 1, 1], 0),\n",
       " ([0, 1, 1, 0, 0], 0),\n",
       " ([1, 0, 0, 0, 0], 0),\n",
       " ([1, 0, 0, 0, 1], 0),\n",
       " ([1, 0, 1, 0, 1], 0),\n",
       " ([1, 1, 0, 1, 0], 0),\n",
       " ([1, 1, 1, 0, 0], 0),\n",
       " ([1, 1, 1, 1, 0], -3),\n",
       " ([1, 0, 0, 1, 1], -8),\n",
       " ([1, 0, 1, 1, 1], -9),\n",
       " ([1, 1, 0, 1, 1], -9),\n",
       " ([1, 1, 1, 0, 1], -9),\n",
       " ([1, 0, 1, 0, 0], -13),\n",
       " ([1, 0, 1, 1, 0], -14),\n",
       " ([0, 0, 1, 1, 0], -19),\n",
       " ([0, 0, 1, 0, 0], -26)]"
      ]
     },
     "execution_count": 7,
     "metadata": {},
     "output_type": "execute_result"
    }
   ],
   "source": [
    "import sklearn.neural_network\n",
    "neuralnet = sklearn.neural_network.MLPRegressor(\n",
    "        hidden_layer_sizes=(32, 32),\n",
    "        solver='lbfgs'\n",
    "    )\n",
    "\n",
    "\n",
    "td = organism.experience_repo.training_data()\n",
    "neuralnet.fit(td[0], td[1])\n",
    "\n",
    "retval = []\n",
    "\n",
    "for i in range(0,31):\n",
    "    a = [int(x) for x in list('{:05b}'.format(i))]\n",
    "    est = neuralnet.predict([ [1, 0, 0, 1, 0] + [1, 0, 0, 0] + a ])[0]\n",
    "    retval.append( (a, int(est*100) ) )\n",
    "\n",
    "retval.sort(key=lambda x: -x[1])\n",
    "retval"
   ]
  },
  {
   "cell_type": "code",
   "execution_count": null,
   "metadata": {},
   "outputs": [],
   "source": []
  },
  {
   "cell_type": "code",
   "execution_count": null,
   "metadata": {},
   "outputs": [],
   "source": []
  }
 ],
 "metadata": {
  "kernelspec": {
   "display_name": "Python 3",
   "language": "python",
   "name": "python3"
  },
  "language_info": {
   "codemirror_mode": {
    "name": "ipython",
    "version": 3
   },
   "file_extension": ".py",
   "mimetype": "text/x-python",
   "name": "python",
   "nbconvert_exporter": "python",
   "pygments_lexer": "ipython3",
   "version": "3.6.7"
  }
 },
 "nbformat": 4,
 "nbformat_minor": 2
}
