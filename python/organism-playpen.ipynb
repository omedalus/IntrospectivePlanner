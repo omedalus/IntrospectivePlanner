{
 "cells": [
  {
   "cell_type": "code",
   "execution_count": 1,
   "metadata": {},
   "outputs": [],
   "source": [
    "import ipl \n",
    "\n",
    "organism = ipl.Organism()\n",
    "organism.verbosity = 1\n",
    "\n",
    "game = ipl.games.ElMazeGame(3,2)\n",
    "organism.configure(game.player_config())\n",
    "\n",
    "action_program = [\n",
    "    [1, 0, 0, 0],\n",
    "    [1, 0, 0, 0],\n",
    "    [1, 0, 0, 0],\n",
    "    [0, 1, 0, 0],\n",
    "    [1, 0, 0, 0],\n",
    "    [1, 0, 0, 0]\n",
    "]\n"
   ]
  },
  {
   "cell_type": "code",
   "execution_count": 8,
   "metadata": {
    "scrolled": true
   },
   "outputs": [
    {
     "name": "stdout",
     "output_type": "stream",
     "text": [
      "\n",
      "RUNNER: Turn 1\n",
      "ORGANISM: Received sensor input: [0, 0, 0, 0, 1]\n",
      "ORGANISM: Committing to action: ACTION: [1, 0, 0, 0] (-> 9 outcomes)\n",
      "Expected outcomes:\n",
      "\tOUTCOME: [0, 1, 1, 1, 0] (-18260% $0.00 = $-0.00)\n",
      "\tOUTCOME: [0, 0, 1, 0, 1] (-41067% $1.00 = $-410.68)\n",
      "\tOUTCOME: [1, 0, 1, 0, 0] (280% $0.00 = $0.00)\n",
      "\tOUTCOME: [1, 0, 0, 0, 0] (53263% $0.00 = $0.00)\n",
      "\tOUTCOME: [1, 1, 1, 0, 0] (-17945% $0.00 = $-0.00)\n",
      "\tOUTCOME: [0, 0, 0, 1, 0] (39664% $0.00 = $0.00)\n",
      "\tOUTCOME: [0, 0, 0, 1, 1] (-3649% $1.00 = $-36.50)\n",
      "\tOUTCOME: [1, 0, 0, 1, 0] (-23723% $0.00 = $-0.00)\n",
      "\tOUTCOME: [1, 1, 0, 0, 0] (11538% $0.00 = $0.00)\n",
      "\n",
      "RUNNER: Turn 2\n",
      "ORGANISM: Received sensor input: [0, 0, 0, 0, 1]\n",
      "ORGANISM: Experience repo size: 133\n",
      "ORGANISM: Committing to action: ACTION: [1, 0, 0, 0] (-> 7 outcomes)\n",
      "Expected outcomes:\n",
      "\tOUTCOME: [0, 1, 0, 0, 0] (2% $0.00 = $0.00)\n",
      "\tOUTCOME: [1, 0, 1, 1, 1] (8% $1.00 = $0.08)\n",
      "\tOUTCOME: [0, 0, 0, 1, 1] (-12% $1.00 = $-0.13)\n",
      "\tOUTCOME: [1, 0, 0, 1, 0] (3% $0.00 = $0.00)\n",
      "\tOUTCOME: [0, 1, 1, 0, 1] (50% $1.00 = $0.51)\n",
      "\tOUTCOME: [1, 1, 1, 1, 1] (19% $1.00 = $0.19)\n",
      "\tOUTCOME: [1, 0, 1, 0, 0] (28% $0.00 = $0.00)\n",
      "\n",
      "RUNNER: Turn 3\n",
      "ORGANISM: Received sensor input: [0, 0, 0, 0, 1]\n",
      "ORGANISM: Experience repo size: 141\n",
      "ORGANISM: Committing to action: ACTION: [1, 0, 0, 0] (-> 10 outcomes)\n",
      "Expected outcomes:\n",
      "\tOUTCOME: [0, 1, 0, 0, 1] (-15% $1.00 = $-0.15)\n",
      "\tOUTCOME: [0, 0, 0, 1, 1] (-29% $1.00 = $-0.29)\n",
      "\tOUTCOME: [1, 0, 1, 1, 1] (65% $1.00 = $0.65)\n",
      "\tOUTCOME: [0, 0, 1, 0, 0] (19% $0.00 = $0.00)\n",
      "\tOUTCOME: [1, 0, 1, 0, 1] (12% $1.00 = $0.12)\n",
      "\tOUTCOME: [1, 0, 1, 1, 0] (-53% $0.00 = $-0.00)\n",
      "\tOUTCOME: [0, 1, 0, 1, 1] (18% $1.00 = $0.18)\n",
      "\tOUTCOME: [0, 0, 0, 0, 0] (28% $0.00 = $0.00)\n",
      "\tOUTCOME: [0, 1, 1, 0, 0] (11% $0.00 = $0.00)\n",
      "\tOUTCOME: [1, 1, 0, 1, 0] (42% $0.00 = $0.00)\n",
      "\n",
      "RUNNER: Turn 4\n",
      "ORGANISM: Received sensor input: [0, 0, 0, 0, 1]\n",
      "ORGANISM: Experience repo size: 152\n",
      "ORGANISM: Committing to action: ACTION: [0, 1, 0, 0] (-> 9 outcomes)\n",
      "Expected outcomes:\n",
      "\tOUTCOME: [0, 1, 0, 0, 1] (8% $1.00 = $0.08)\n",
      "\tOUTCOME: [1, 1, 0, 0, 1] (11% $1.00 = $0.12)\n",
      "\tOUTCOME: [0, 1, 1, 1, 1] (0% $1.00 = $0.00)\n",
      "\tOUTCOME: [0, 0, 1, 1, 0] (-22% $0.00 = $-0.00)\n",
      "\tOUTCOME: [1, 1, 0, 1, 0] (14% $0.00 = $0.00)\n",
      "\tOUTCOME: [1, 0, 1, 0, 1] (2% $1.00 = $0.03)\n",
      "\tOUTCOME: [1, 1, 1, 0, 1] (10% $1.00 = $0.10)\n",
      "\tOUTCOME: [1, 1, 0, 0, 0] (69% $0.00 = $0.00)\n",
      "\tOUTCOME: [1, 1, 1, 1, 1] (4% $1.00 = $0.05)\n",
      "\n",
      "RUNNER: Turn 5\n",
      "ORGANISM: Received sensor input: [0, 0, 0, 0, 1]\n",
      "ORGANISM: Experience repo size: 162\n",
      "ORGANISM: Committing to action: ACTION: [1, 0, 0, 0] (-> 9 outcomes)\n",
      "Expected outcomes:\n",
      "\tOUTCOME: [1, 1, 1, 0, 1] (-170% $1.00 = $-1.70)\n",
      "\tOUTCOME: [1, 0, 1, 1, 0] (56% $0.00 = $0.00)\n",
      "\tOUTCOME: [1, 1, 0, 1, 0] (-16% $0.00 = $-0.00)\n",
      "\tOUTCOME: [1, 0, 0, 0, 1] (-52% $1.00 = $-0.52)\n",
      "\tOUTCOME: [0, 0, 1, 0, 0] (144% $0.00 = $0.00)\n",
      "\tOUTCOME: [0, 0, 0, 1, 0] (250% $0.00 = $0.00)\n",
      "\tOUTCOME: [0, 0, 0, 0, 0] (15% $0.00 = $0.00)\n",
      "\tOUTCOME: [0, 1, 1, 0, 1] (-29% $1.00 = $-0.30)\n",
      "\tOUTCOME: [1, 1, 0, 1, 1] (-98% $1.00 = $-0.99)\n",
      "\n",
      "RUNNER: Turn 6\n",
      "ORGANISM: Received sensor input: [0, 0, 0, 0, 1]\n",
      "ORGANISM: Experience repo size: 172\n",
      "ORGANISM: Committing to action: ACTION: [1, 0, 0, 0] (-> 8 outcomes)\n",
      "Expected outcomes:\n",
      "\tOUTCOME: [0, 0, 0, 0, 1] (100% $1.00 = $1.00)\n",
      "\tOUTCOME: [0, 1, 0, 1, 0] (-6% $0.00 = $-0.00)\n",
      "\tOUTCOME: [0, 1, 1, 0, 1] (-2% $1.00 = $-0.03)\n",
      "\tOUTCOME: [1, 1, 1, 1, 1] (2% $1.00 = $0.02)\n",
      "\tOUTCOME: [0, 1, 1, 1, 1] (-1% $1.00 = $-0.01)\n",
      "\tOUTCOME: [0, 0, 0, 0, 0] (5% $0.00 = $0.00)\n",
      "\tOUTCOME: [1, 0, 1, 0, 0] (2% $0.00 = $0.00)\n",
      "\tOUTCOME: [0, 0, 0, 1, 1] (0% $1.00 = $0.00)\n",
      "\n",
      "RUNNER: Predefined action sequence complete.\n",
      "ORGANISM: Received sensor input: [0, 0, 0, 0, 1]\n",
      "ORGANISM: Experience repo size: 180\n",
      "Repo size before consolidation: 180\n",
      "Repo size after consolidation: 121\n"
     ]
    }
   ],
   "source": [
    "game = ipl.games.ElMazeGame(3,2)\n",
    "\n",
    "organism.verbosity = 1\n",
    "organism.reset_state()\n",
    "for iturn, pa in enumerate(action_program):\n",
    "  print('\\nRUNNER: Turn {}'.format(iturn + 1))\n",
    "  organism.handle_sensor_input(game.sensors())\n",
    "\n",
    "  oa = organism.choose_action(pa)\n",
    "  if oa.outcomes and len(oa.outcomes):\n",
    "    print('Expected outcomes:')\n",
    "    for outcome in oa.outcomes:\n",
    "      print('\\t{}'.format(outcome))\n",
    "  else:\n",
    "    print('(Action has no outcomes)')\n",
    "\n",
    "  game.act(oa.actuators)\n",
    "  \n",
    "\n",
    "print()\n",
    "print('RUNNER: Predefined action sequence complete.')\n",
    "organism.handle_sensor_input(game.sensors())\n",
    "\n",
    "organism.maintenance()"
   ]
  },
  {
   "cell_type": "code",
   "execution_count": 3,
   "metadata": {},
   "outputs": [
    {
     "data": {
      "text/plain": [
       "{'sensors': ['FORWARD', 'LEFT', 'RIGHT', 'BACK', 'VICTORY'],\n",
       " 'actuators': ['GO', 'TURN LEFT', 'TURN RIGHT', 'TURN BACK']}"
      ]
     },
     "execution_count": 3,
     "metadata": {},
     "output_type": "execute_result"
    }
   ],
   "source": [
    "game.io_vector_labels()"
   ]
  },
  {
   "cell_type": "code",
   "execution_count": 4,
   "metadata": {
    "scrolled": true
   },
   "outputs": [
    {
     "name": "stdout",
     "output_type": "stream",
     "text": [
      "# learned vectors: 48\n"
     ]
    },
    {
     "data": {
      "text/plain": [
       "[([1, 0, 0, 1, 0], 99),\n",
       " ([0, 0, 0, 0, 1], 97),\n",
       " ([0, 1, 0, 1, 0], 53),\n",
       " ([0, 1, 0, 1, 1], 35),\n",
       " ([0, 0, 0, 1, 0], 25),\n",
       " ([0, 0, 1, 1, 0], 20),\n",
       " ([0, 0, 1, 1, 1], 11),\n",
       " ([0, 1, 0, 0, 1], 9),\n",
       " ([1, 1, 1, 0, 0], 7),\n",
       " ([0, 0, 1, 0, 1], 4),\n",
       " ([1, 1, 1, 0, 1], 3),\n",
       " ([0, 1, 0, 0, 0], 2),\n",
       " ([1, 0, 1, 1, 1], 2),\n",
       " ([1, 1, 0, 1, 1], 2),\n",
       " ([0, 0, 0, 1, 1], 1),\n",
       " ([0, 1, 1, 1, 0], 0),\n",
       " ([1, 0, 0, 0, 1], 0),\n",
       " ([1, 1, 0, 1, 0], 0),\n",
       " ([0, 0, 0, 0, 0], -1),\n",
       " ([1, 1, 0, 0, 0], -1),\n",
       " ([1, 0, 1, 0, 0], -2),\n",
       " ([1, 1, 0, 0, 1], -2),\n",
       " ([0, 1, 1, 1, 1], -3),\n",
       " ([1, 0, 1, 1, 0], -4),\n",
       " ([1, 1, 1, 1, 0], -4),\n",
       " ([0, 1, 1, 0, 0], -5),\n",
       " ([1, 0, 0, 1, 1], -6),\n",
       " ([1, 0, 1, 0, 1], -6),\n",
       " ([0, 0, 1, 0, 0], -8),\n",
       " ([0, 1, 1, 0, 1], -9),\n",
       " ([1, 0, 0, 0, 0], -10)]"
      ]
     },
     "execution_count": 4,
     "metadata": {},
     "output_type": "execute_result"
    }
   ],
   "source": [
    "print('# learned vectors: {}'.format(len(organism.experience_repo.experiences)))\n",
    "retval = []\n",
    "\n",
    "for i in range(0,31):\n",
    "    a = [int(x) for x in list('{:05b}'.format(i))]\n",
    "    est = organism.outcome_likelihood_estimator.estimate( ipl.nnplanner.Experience([1, 0, 0, 1, 0], [1, 0, 0, 0],  a))\n",
    "    retval.append( (a, int(est*100) ) )\n",
    "\n",
    "retval.sort(key=lambda x: -x[1])\n",
    "retval"
   ]
  },
  {
   "cell_type": "code",
   "execution_count": 5,
   "metadata": {},
   "outputs": [
    {
     "name": "stdout",
     "output_type": "stream",
     "text": [
      "Run #0\n",
      "Run #1\n",
      "Run #2\n",
      "Run #3\n",
      "Run #4\n",
      "Run #5\n",
      "Run #6\n",
      "Run #7\n",
      "Run #8\n",
      "Run #9\n"
     ]
    }
   ],
   "source": [
    "organism.verbosity = 0\n",
    "for i in range(0, 10):\n",
    "    print('Run #{}'.format(i))\n",
    "    game = ipl.games.ElMazeGame(3,2)    \n",
    "\n",
    "    organism.reset_state()\n",
    "    for pa in action_program:\n",
    "      organism.handle_sensor_input(game.sensors())\n",
    "      oa = organism.choose_action(pa)\n",
    "      game.act(oa.actuators)\n",
    "    \n",
    "    organism.handle_sensor_input(game.sensors())\n",
    "    organism.maintenance()\n",
    "    "
   ]
  },
  {
   "cell_type": "code",
   "execution_count": 6,
   "metadata": {},
   "outputs": [
    {
     "data": {
      "text/plain": [
       "116"
      ]
     },
     "execution_count": 6,
     "metadata": {},
     "output_type": "execute_result"
    }
   ],
   "source": [
    "es = list(organism.experience_repo.experiences)\n",
    "len(es)"
   ]
  }
 ],
 "metadata": {
  "kernelspec": {
   "display_name": "Python 3",
   "language": "python",
   "name": "python3"
  },
  "language_info": {
   "codemirror_mode": {
    "name": "ipython",
    "version": 3
   },
   "file_extension": ".py",
   "mimetype": "text/x-python",
   "name": "python",
   "nbconvert_exporter": "python",
   "pygments_lexer": "ipython3",
   "version": "3.6.7"
  }
 },
 "nbformat": 4,
 "nbformat_minor": 2
}
