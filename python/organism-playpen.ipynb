{
 "cells": [
  {
   "cell_type": "code",
   "execution_count": 1,
   "metadata": {},
   "outputs": [],
   "source": [
    "import ipl \n",
    "\n",
    "organism = ipl.Organism()\n",
    "organism.verbosity = 1\n",
    "\n",
    "game = ipl.games.ElMazeGame(3,2)\n",
    "organism.configure(game.player_config())\n",
    "\n",
    "action_program = [\n",
    "    [1, 0, 0, 0],\n",
    "    [1, 0, 0, 0],\n",
    "    [1, 0, 0, 0],\n",
    "    [0, 1, 0, 0],\n",
    "    [1, 0, 0, 0],\n",
    "    [1, 0, 0, 0]\n",
    "]\n"
   ]
  },
  {
   "cell_type": "code",
   "execution_count": 9,
   "metadata": {
    "scrolled": true
   },
   "outputs": [
    {
     "name": "stdout",
     "output_type": "stream",
     "text": [
      "\n",
      "RUNNER: Turn 1\n",
      "ORGANISM: Received sensor input: [1, 0, 0, 0, 0]\n",
      "ORGANISM: Committing to action: ACTION: [1, 0, 0, 0] (-> 4 outcomes)\n",
      "Expected outcomes:\n",
      "\tOUTCOME: [1, 0, 0, 1, 0] (96% $0.00 = $0.00)\n",
      "\tOUTCOME: [0, 0, 1, 1, 0] (2% $0.00 = $0.00)\n",
      "\tOUTCOME: [0, 0, 1, 1, 1] (0% $1.00 = $0.01)\n",
      "\tOUTCOME: [0, 0, 0, 1, 1] (0% $1.00 = $0.00)\n",
      "\n",
      "RUNNER: Turn 2\n",
      "ORGANISM: Received sensor input: [1, 0, 0, 1, 0]\n",
      "ORGANISM: Experience repo size: 176\n",
      "ORGANISM: Committing to action: ACTION: [1, 0, 0, 0] (-> 4 outcomes)\n",
      "Expected outcomes:\n",
      "\tOUTCOME: [1, 0, 0, 1, 0] (55% $0.00 = $0.00)\n",
      "\tOUTCOME: [1, 0, 1, 1, 1] (29% $1.00 = $0.29)\n",
      "\tOUTCOME: [0, 1, 0, 1, 0] (15% $0.00 = $0.00)\n",
      "\tOUTCOME: [1, 0, 0, 0, 1] (0% $1.00 = $0.00)\n",
      "\n",
      "RUNNER: Turn 3\n",
      "ORGANISM: Received sensor input: [1, 0, 0, 1, 0]\n",
      "ORGANISM: Experience repo size: 180\n",
      "ORGANISM: Committing to action: ACTION: [1, 0, 0, 0] (-> 4 outcomes)\n",
      "Expected outcomes:\n",
      "\tOUTCOME: [1, 0, 0, 1, 0] (35% $0.00 = $0.00)\n",
      "\tOUTCOME: [0, 1, 0, 1, 0] (34% $0.00 = $0.00)\n",
      "\tOUTCOME: [0, 0, 0, 0, 1] (30% $1.00 = $0.30)\n",
      "\tOUTCOME: [1, 1, 0, 0, 1] (0% $1.00 = $0.00)\n",
      "\n",
      "RUNNER: Turn 4\n",
      "ORGANISM: Received sensor input: [0, 1, 0, 1, 0]\n",
      "ORGANISM: Experience repo size: 184\n",
      "ORGANISM: Committing to action: ACTION: [0, 1, 0, 0] (-> 3 outcomes)\n",
      "Expected outcomes:\n",
      "\tOUTCOME: [1, 1, 0, 0, 0] (94% $0.00 = $0.00)\n",
      "\tOUTCOME: [0, 0, 1, 0, 1] (5% $1.00 = $0.06)\n",
      "\tOUTCOME: [0, 0, 0, 0, 0] (0% $0.00 = $0.00)\n",
      "\n",
      "RUNNER: Turn 5\n",
      "ORGANISM: Received sensor input: [1, 1, 0, 0, 0]\n",
      "ORGANISM: Experience repo size: 187\n",
      "ORGANISM: Committing to action: ACTION: [1, 0, 0, 0] (-> 5 outcomes)\n",
      "Expected outcomes:\n",
      "\tOUTCOME: [1, 0, 0, 1, 0] (96% $0.00 = $0.00)\n",
      "\tOUTCOME: [0, 1, 0, 0, 1] (1% $1.00 = $0.02)\n",
      "\tOUTCOME: [0, 0, 1, 1, 1] (1% $1.00 = $0.01)\n",
      "\tOUTCOME: [1, 1, 0, 0, 0] (0% $0.00 = $0.00)\n",
      "\tOUTCOME: [0, 0, 1, 0, 1] (0% $1.00 = $0.00)\n",
      "\n",
      "RUNNER: Turn 6\n",
      "ORGANISM: Received sensor input: [1, 0, 0, 1, 0]\n",
      "ORGANISM: Experience repo size: 192\n",
      "ORGANISM: Committing to action: ACTION: [1, 0, 0, 0] (-> 4 outcomes)\n",
      "Expected outcomes:\n",
      "\tOUTCOME: [1, 0, 0, 1, 0] (49% $0.00 = $0.00)\n",
      "\tOUTCOME: [0, 0, 0, 0, 1] (43% $1.00 = $0.44)\n",
      "\tOUTCOME: [0, 1, 0, 1, 0] (6% $0.00 = $0.00)\n",
      "\tOUTCOME: [0, 0, 1, 1, 0] (0% $0.00 = $0.00)\n",
      "\n",
      "RUNNER: Predefined action sequence complete.\n",
      "ORGANISM: Received sensor input: [0, 0, 0, 0, 1]\n",
      "ORGANISM: Experience repo size: 196\n",
      "Repo size before consolidation: 196\n",
      "Repo size after consolidation: 186\n"
     ]
    }
   ],
   "source": [
    "game = ipl.games.ElMazeGame(3,2)\n",
    "\n",
    "organism.verbosity = 1\n",
    "organism.reset_state()\n",
    "for iturn, pa in enumerate(action_program):\n",
    "  print('\\nRUNNER: Turn {}'.format(iturn + 1))\n",
    "  organism.handle_sensor_input(game.sensors())\n",
    "\n",
    "  oa = organism.choose_action(pa)\n",
    "  if oa.outcomes and len(oa.outcomes):\n",
    "    print('Expected outcomes:')\n",
    "    for outcome in oa.outcomes:\n",
    "      print('\\t{}'.format(outcome))\n",
    "  else:\n",
    "    print('(Action has no outcomes)')\n",
    "\n",
    "  game.act(oa.actuators)\n",
    "  \n",
    "\n",
    "print()\n",
    "print('RUNNER: Predefined action sequence complete.')\n",
    "organism.handle_sensor_input(game.sensors())\n",
    "\n",
    "organism.maintenance()"
   ]
  },
  {
   "cell_type": "code",
   "execution_count": 3,
   "metadata": {},
   "outputs": [
    {
     "data": {
      "text/plain": [
       "{'sensors': ['FORWARD', 'LEFT', 'RIGHT', 'BACK', 'VICTORY'],\n",
       " 'actuators': ['GO', 'TURN LEFT', 'TURN RIGHT', 'TURN BACK']}"
      ]
     },
     "execution_count": 3,
     "metadata": {},
     "output_type": "execute_result"
    }
   ],
   "source": [
    "game.io_vector_labels()"
   ]
  },
  {
   "cell_type": "code",
   "execution_count": 8,
   "metadata": {
    "scrolled": true
   },
   "outputs": [
    {
     "name": "stdout",
     "output_type": "stream",
     "text": [
      "# learned vectors: 172\n"
     ]
    },
    {
     "data": {
      "text/plain": [
       "[([1, 1, 0, 0, 0], 100),\n",
       " ([1, 1, 1, 0, 1], 23),\n",
       " ([1, 0, 1, 0, 1], 21),\n",
       " ([0, 0, 1, 0, 1], 16),\n",
       " ([0, 1, 1, 0, 1], 11),\n",
       " ([1, 1, 1, 1, 0], 11),\n",
       " ([1, 1, 0, 1, 1], 10),\n",
       " ([1, 0, 1, 0, 0], 7),\n",
       " ([0, 1, 1, 1, 0], 2),\n",
       " ([0, 0, 0, 0, 0], 0),\n",
       " ([0, 0, 0, 0, 1], 0),\n",
       " ([0, 0, 0, 1, 0], 0),\n",
       " ([0, 0, 0, 1, 1], 0),\n",
       " ([0, 0, 1, 0, 0], 0),\n",
       " ([0, 0, 1, 1, 0], 0),\n",
       " ([0, 0, 1, 1, 1], 0),\n",
       " ([0, 1, 0, 0, 0], 0),\n",
       " ([0, 1, 0, 0, 1], 0),\n",
       " ([0, 1, 0, 1, 0], 0),\n",
       " ([0, 1, 0, 1, 1], 0),\n",
       " ([0, 1, 1, 0, 0], 0),\n",
       " ([0, 1, 1, 1, 1], 0),\n",
       " ([1, 0, 0, 0, 0], 0),\n",
       " ([1, 0, 0, 0, 1], 0),\n",
       " ([1, 0, 0, 1, 0], 0),\n",
       " ([1, 0, 1, 1, 0], 0),\n",
       " ([1, 0, 1, 1, 1], 0),\n",
       " ([1, 1, 0, 0, 1], 0),\n",
       " ([1, 1, 0, 1, 0], 0),\n",
       " ([1, 1, 1, 0, 0], 0),\n",
       " ([1, 0, 0, 1, 1], -20)]"
      ]
     },
     "execution_count": 8,
     "metadata": {},
     "output_type": "execute_result"
    }
   ],
   "source": [
    "print('# learned vectors: {}'.format(len(organism.experience_repo.experiences)))\n",
    "retval = []\n",
    "\n",
    "for i in range(0,31):\n",
    "    a = [int(x) for x in list('{:05b}'.format(i))]\n",
    "    est = organism.outcome_likelihood_estimator.estimate( ipl.nnplanner.Experience([0, 1, 0, 1, 0], [0, 1, 0, 0],  a))\n",
    "    retval.append( (a, int(est*100) ) )\n",
    "\n",
    "retval.sort(key=lambda x: -x[1])\n",
    "retval"
   ]
  },
  {
   "cell_type": "code",
   "execution_count": 5,
   "metadata": {},
   "outputs": [
    {
     "name": "stdout",
     "output_type": "stream",
     "text": [
      "Run #0\n",
      "Run #1\n",
      "Run #2\n",
      "Run #3\n",
      "Run #4\n",
      "Run #5\n",
      "Run #6\n",
      "Run #7\n",
      "Run #8\n",
      "Run #9\n"
     ]
    }
   ],
   "source": [
    "organism.verbosity = 0\n",
    "for i in range(0, 10):\n",
    "    print('Run #{}'.format(i))\n",
    "    game = ipl.games.ElMazeGame(3,2)    \n",
    "\n",
    "    organism.reset_state()\n",
    "    for pa in action_program:\n",
    "      organism.handle_sensor_input(game.sensors())\n",
    "      oa = organism.choose_action(pa)\n",
    "      game.act(oa.actuators)\n",
    "    \n",
    "\n",
    "    organism.handle_sensor_input(game.sensors())\n",
    "    organism.maintenance()\n",
    "    "
   ]
  },
  {
   "cell_type": "code",
   "execution_count": 6,
   "metadata": {},
   "outputs": [
    {
     "data": {
      "text/plain": [
       "172"
      ]
     },
     "execution_count": 6,
     "metadata": {},
     "output_type": "execute_result"
    }
   ],
   "source": [
    "len(organism.experience_repo)"
   ]
  },
  {
   "cell_type": "code",
   "execution_count": 7,
   "metadata": {},
   "outputs": [
    {
     "data": {
      "text/plain": [
       "[([0, 1, 0, 1, 0], 44),\n",
       " ([0, 0, 0, 0, 1], 37),\n",
       " ([1, 0, 0, 1, 0], 37),\n",
       " ([1, 1, 1, 0, 1], 1),\n",
       " ([0, 0, 0, 0, 0], 0),\n",
       " ([0, 0, 0, 1, 0], 0),\n",
       " ([0, 0, 0, 1, 1], 0),\n",
       " ([0, 0, 1, 0, 0], 0),\n",
       " ([0, 0, 1, 0, 1], 0),\n",
       " ([0, 1, 0, 0, 0], 0),\n",
       " ([0, 1, 0, 0, 1], 0),\n",
       " ([0, 1, 0, 1, 1], 0),\n",
       " ([0, 1, 1, 0, 0], 0),\n",
       " ([0, 1, 1, 0, 1], 0),\n",
       " ([0, 1, 1, 1, 0], 0),\n",
       " ([0, 1, 1, 1, 1], 0),\n",
       " ([1, 0, 0, 0, 0], 0),\n",
       " ([1, 0, 0, 0, 1], 0),\n",
       " ([1, 0, 0, 1, 1], 0),\n",
       " ([1, 0, 1, 0, 0], 0),\n",
       " ([1, 0, 1, 0, 1], 0),\n",
       " ([1, 0, 1, 1, 0], 0),\n",
       " ([1, 1, 0, 0, 0], 0),\n",
       " ([1, 1, 0, 1, 0], 0),\n",
       " ([1, 1, 1, 0, 0], 0),\n",
       " ([1, 1, 1, 1, 0], 0),\n",
       " ([1, 1, 0, 0, 1], -1),\n",
       " ([1, 0, 1, 1, 1], -7),\n",
       " ([1, 1, 0, 1, 1], -8),\n",
       " ([0, 0, 1, 1, 0], -19),\n",
       " ([0, 0, 1, 1, 1], -34)]"
      ]
     },
     "execution_count": 7,
     "metadata": {},
     "output_type": "execute_result"
    }
   ],
   "source": [
    "import sklearn.neural_network\n",
    "neuralnet = sklearn.neural_network.MLPRegressor(\n",
    "        hidden_layer_sizes=(32, 32),\n",
    "        solver='lbfgs'\n",
    "    )\n",
    "\n",
    "\n",
    "td = organism.experience_repo.training_data()\n",
    "neuralnet.fit(td[0], td[1])\n",
    "\n",
    "retval = []\n",
    "\n",
    "for i in range(0,31):\n",
    "    a = [int(x) for x in list('{:05b}'.format(i))]\n",
    "    est = neuralnet.predict([ [1, 0, 0, 1, 0] + [1, 0, 0, 0] + a ])[0]\n",
    "    retval.append( (a, int(est*100) ) )\n",
    "\n",
    "retval.sort(key=lambda x: -x[1])\n",
    "retval"
   ]
  },
  {
   "cell_type": "code",
   "execution_count": null,
   "metadata": {},
   "outputs": [],
   "source": []
  },
  {
   "cell_type": "code",
   "execution_count": null,
   "metadata": {},
   "outputs": [],
   "source": []
  }
 ],
 "metadata": {
  "kernelspec": {
   "display_name": "Python 3",
   "language": "python",
   "name": "python3"
  },
  "language_info": {
   "codemirror_mode": {
    "name": "ipython",
    "version": 3
   },
   "file_extension": ".py",
   "mimetype": "text/x-python",
   "name": "python",
   "nbconvert_exporter": "python",
   "pygments_lexer": "ipython3",
   "version": "3.6.7"
  }
 },
 "nbformat": 4,
 "nbformat_minor": 2
}
