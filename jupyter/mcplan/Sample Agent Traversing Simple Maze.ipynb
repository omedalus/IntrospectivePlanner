{
 "cells": [
  {
   "cell_type": "code",
   "execution_count": 1,
   "metadata": {},
   "outputs": [],
   "source": [
    "import maze_environment"
   ]
  },
  {
   "cell_type": "code",
   "execution_count": 2,
   "metadata": {},
   "outputs": [
    {
     "name": "stdout",
     "output_type": "stream",
     "text": [
      "##########\n",
      "#*       #\n",
      "######## #\n",
      "       # #\n",
      "       # #\n",
      "       # #\n",
      "       # #\n",
      "       # #\n",
      "       #^#\n",
      "       ###\n",
      "Agent sees openings: \n",
      "AHEAD\n"
     ]
    }
   ],
   "source": [
    "maze = maze_environment.MazeEnvironment(filename=\"L-map.txt\")\n",
    "maze.show()"
   ]
  },
  {
   "cell_type": "code",
   "execution_count": 3,
   "metadata": {},
   "outputs": [
    {
     "data": {
      "text/plain": [
       "0"
      ]
     },
     "execution_count": 3,
     "metadata": {},
     "output_type": "execute_result"
    }
   ],
   "source": [
    "maze.agentOrientation"
   ]
  },
  {
   "cell_type": "code",
   "execution_count": 4,
   "metadata": {},
   "outputs": [
    {
     "data": {
      "text/plain": [
       "{'traversible': True,\n",
       " 'goal': True,\n",
       " 'agent': False,\n",
       " 'view': [False, True, False, False]}"
      ]
     },
     "execution_count": 4,
     "metadata": {},
     "output_type": "execute_result"
    }
   ],
   "source": [
    "maze.mapsquare([1,1],0)"
   ]
  },
  {
   "cell_type": "code",
   "execution_count": 5,
   "metadata": {},
   "outputs": [],
   "source": [
    "a = [1,2,3,4]"
   ]
  },
  {
   "cell_type": "code",
   "execution_count": 21,
   "metadata": {},
   "outputs": [
    {
     "name": "stdout",
     "output_type": "stream",
     "text": [
      "##########\n",
      "#<       #\n",
      "######## #\n",
      "       # #\n",
      "       # #\n",
      "       # #\n",
      "       # #\n",
      "       # #\n",
      "       # #\n",
      "       ###\n",
      "Agent sees openings: \n",
      "BEHIND\n",
      "Sensors: [False, False, True, False]\n",
      "Reward: 100\n"
     ]
    }
   ],
   "source": [
    "maze.action('FORWARD', True)\n",
    "print(\"Sensors: \" + str(maze.sensors()))\n",
    "print(\"Reward: \" + str(maze.reward()))"
   ]
  },
  {
   "cell_type": "code",
   "execution_count": null,
   "metadata": {},
   "outputs": [],
   "source": []
  }
 ],
 "metadata": {
  "kernelspec": {
   "display_name": "Python 3",
   "language": "python",
   "name": "python3"
  },
  "language_info": {
   "codemirror_mode": {
    "name": "ipython",
    "version": 3
   },
   "file_extension": ".py",
   "mimetype": "text/x-python",
   "name": "python",
   "nbconvert_exporter": "python",
   "pygments_lexer": "ipython3",
   "version": "3.7.4"
  }
 },
 "nbformat": 4,
 "nbformat_minor": 4
}
