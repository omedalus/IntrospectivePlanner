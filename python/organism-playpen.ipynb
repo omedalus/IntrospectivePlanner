{
 "cells": [
  {
   "cell_type": "code",
   "execution_count": 1,
   "metadata": {},
   "outputs": [],
   "source": [
    "import ipl \n",
    "\n",
    "organism = ipl.Organism()\n",
    "organism.verbosity = 1\n",
    "\n",
    "game = ipl.games.ElMazeGame(3,2)\n",
    "organism.configure(game.player_config())\n",
    "\n",
    "action_program = [\n",
    "    [1, 0, 0, 0],\n",
    "    [1, 0, 0, 0],\n",
    "    [1, 0, 0, 0],\n",
    "    [0, 1, 0, 0],\n",
    "    [1, 0, 0, 0],\n",
    "    [1, 0, 0, 0]\n",
    "]\n"
   ]
  },
  {
   "cell_type": "code",
   "execution_count": 2,
   "metadata": {
    "scrolled": false
   },
   "outputs": [
    {
     "name": "stdout",
     "output_type": "stream",
     "text": [
      "\n",
      "RUNNER: Turn 1\n",
      "ORGANISM: Received sensor input: [1, 0, 0, 0, 0]\n",
      "ORGANISM: Committing to action: ACTION: [1, 0, 0, 0] (-> 9 outcomes)\n",
      "Expected outcomes:\n",
      "\tOUTCOME: [0, 1, 0, 1, 0] (11% $0.00 = $0.00)\n",
      "\tOUTCOME: [0, 0, 1, 0, 0] (11% $0.00 = $0.00)\n",
      "\tOUTCOME: [1, 0, 0, 1, 0] (11% $0.00 = $0.00)\n",
      "\tOUTCOME: [0, 1, 1, 0, 0] (11% $0.00 = $0.00)\n",
      "\tOUTCOME: [1, 1, 0, 1, 1] (11% $1.00 = $0.11)\n",
      "\tOUTCOME: [1, 0, 0, 1, 1] (11% $1.00 = $0.11)\n",
      "\tOUTCOME: [1, 0, 1, 1, 1] (11% $1.00 = $0.11)\n",
      "\tOUTCOME: [0, 1, 1, 0, 1] (11% $1.00 = $0.11)\n",
      "\tOUTCOME: [1, 1, 0, 0, 1] (11% $1.00 = $0.11)\n",
      "\n",
      "RUNNER: Turn 2\n",
      "ORGANISM: Received sensor input: [1, 0, 0, 1, 0]\n",
      "ORGANISM: Experience repo size: 1\n",
      "ORGANISM: Committing to action: ACTION: [1, 0, 0, 0] (-> 8 outcomes)\n",
      "Expected outcomes:\n",
      "\tOUTCOME: [0, 1, 0, 0, 1] (12% $1.00 = $0.12)\n",
      "\tOUTCOME: [1, 1, 0, 0, 0] (12% $0.00 = $0.00)\n",
      "\tOUTCOME: [0, 0, 0, 0, 1] (12% $1.00 = $0.12)\n",
      "\tOUTCOME: [0, 1, 0, 1, 0] (12% $0.00 = $0.00)\n",
      "\tOUTCOME: [1, 1, 1, 0, 0] (12% $0.00 = $0.00)\n",
      "\tOUTCOME: [0, 1, 1, 1, 1] (12% $1.00 = $0.12)\n",
      "\tOUTCOME: [0, 0, 0, 1, 0] (12% $0.00 = $0.00)\n",
      "\tOUTCOME: [1, 0, 0, 1, 1] (12% $1.00 = $0.12)\n",
      "\n",
      "RUNNER: Turn 3\n",
      "ORGANISM: Received sensor input: [1, 0, 0, 1, 0]\n",
      "ORGANISM: Experience repo size: 2\n",
      "ORGANISM: Committing to action: ACTION: [1, 0, 0, 0] (-> 10 outcomes)\n",
      "Expected outcomes:\n",
      "\tOUTCOME: [1, 1, 1, 0, 0] (10% $0.00 = $0.00)\n",
      "\tOUTCOME: [1, 1, 0, 1, 0] (10% $0.00 = $0.00)\n",
      "\tOUTCOME: [1, 0, 0, 0, 0] (10% $0.00 = $0.00)\n",
      "\tOUTCOME: [0, 1, 1, 0, 1] (10% $1.00 = $0.10)\n",
      "\tOUTCOME: [0, 1, 0, 1, 0] (10% $0.00 = $0.00)\n",
      "\tOUTCOME: [0, 0, 0, 0, 1] (10% $1.00 = $0.10)\n",
      "\tOUTCOME: [0, 1, 1, 1, 0] (10% $0.00 = $0.00)\n",
      "\tOUTCOME: [1, 0, 0, 1, 1] (10% $1.00 = $0.10)\n",
      "\tOUTCOME: [0, 0, 0, 1, 1] (10% $1.00 = $0.10)\n",
      "\tOUTCOME: [1, 1, 1, 1, 0] (10% $0.00 = $0.00)\n",
      "\n",
      "RUNNER: Turn 4\n",
      "ORGANISM: Received sensor input: [0, 1, 0, 1, 0]\n",
      "ORGANISM: Experience repo size: 3\n",
      "ORGANISM: Committing to action: ACTION: [0, 1, 0, 0] (-> 10 outcomes)\n",
      "Expected outcomes:\n",
      "\tOUTCOME: [1, 1, 0, 1, 1] (10% $1.00 = $0.10)\n",
      "\tOUTCOME: [0, 0, 0, 1, 0] (10% $0.00 = $0.00)\n",
      "\tOUTCOME: [0, 0, 0, 1, 1] (10% $1.00 = $0.10)\n",
      "\tOUTCOME: [1, 1, 1, 1, 0] (10% $0.00 = $0.00)\n",
      "\tOUTCOME: [1, 1, 1, 0, 1] (10% $1.00 = $0.10)\n",
      "\tOUTCOME: [1, 0, 0, 1, 0] (10% $0.00 = $0.00)\n",
      "\tOUTCOME: [1, 0, 0, 0, 0] (10% $0.00 = $0.00)\n",
      "\tOUTCOME: [0, 1, 0, 1, 0] (10% $0.00 = $0.00)\n",
      "\tOUTCOME: [0, 1, 1, 1, 1] (10% $1.00 = $0.10)\n",
      "\tOUTCOME: [1, 0, 1, 1, 0] (10% $0.00 = $0.00)\n",
      "\n",
      "RUNNER: Turn 5\n",
      "ORGANISM: Received sensor input: [1, 1, 0, 0, 0]\n",
      "ORGANISM: Experience repo size: 4\n",
      "ORGANISM: Committing to action: ACTION: [1, 0, 0, 0] (-> 8 outcomes)\n",
      "Expected outcomes:\n",
      "\tOUTCOME: [0, 0, 1, 0, 0] (12% $0.00 = $0.00)\n",
      "\tOUTCOME: [1, 1, 0, 1, 0] (12% $0.00 = $0.00)\n",
      "\tOUTCOME: [0, 0, 0, 1, 1] (12% $1.00 = $0.12)\n",
      "\tOUTCOME: [0, 0, 0, 0, 0] (12% $0.00 = $0.00)\n",
      "\tOUTCOME: [1, 0, 0, 0, 1] (12% $1.00 = $0.12)\n",
      "\tOUTCOME: [1, 0, 1, 0, 1] (12% $1.00 = $0.12)\n",
      "\tOUTCOME: [1, 0, 1, 1, 1] (12% $1.00 = $0.12)\n",
      "\tOUTCOME: [1, 0, 0, 0, 0] (12% $0.00 = $0.00)\n",
      "\n",
      "RUNNER: Turn 6\n",
      "ORGANISM: Received sensor input: [1, 0, 0, 1, 0]\n",
      "ORGANISM: Experience repo size: 5\n",
      "ORGANISM: Committing to action: ACTION: [1, 0, 0, 0] (-> 8 outcomes)\n",
      "Expected outcomes:\n",
      "\tOUTCOME: [0, 1, 1, 1, 1] (12% $1.00 = $0.12)\n",
      "\tOUTCOME: [0, 0, 1, 1, 1] (12% $1.00 = $0.12)\n",
      "\tOUTCOME: [1, 0, 0, 0, 0] (12% $0.00 = $0.00)\n",
      "\tOUTCOME: [0, 1, 1, 0, 1] (12% $1.00 = $0.12)\n",
      "\tOUTCOME: [0, 0, 0, 1, 1] (12% $1.00 = $0.12)\n",
      "\tOUTCOME: [1, 1, 0, 0, 1] (12% $1.00 = $0.12)\n",
      "\tOUTCOME: [0, 0, 1, 1, 0] (12% $0.00 = $0.00)\n",
      "\tOUTCOME: [1, 0, 1, 0, 1] (12% $1.00 = $0.12)\n",
      "\n",
      "RUNNER: Predefined action sequence complete.\n",
      "ORGANISM: Received sensor input: [0, 0, 0, 0, 1]\n",
      "ORGANISM: Experience repo size: 6\n"
     ]
    }
   ],
   "source": [
    "organism.reset_state()\n",
    "for iturn, pa in enumerate(action_program):\n",
    "  print('\\nRUNNER: Turn {}'.format(iturn + 1))\n",
    "  organism.handle_sensor_input(game.sensors())\n",
    "\n",
    "  oa = organism.choose_action(pa)\n",
    "  if oa.outcomes and len(oa.outcomes):\n",
    "    print('Expected outcomes:')\n",
    "    for outcome in oa.outcomes:\n",
    "      print('\\t{}'.format(outcome))\n",
    "  else:\n",
    "    print('(Action has no outcomes)')\n",
    "\n",
    "  game.act(oa.actuators)\n",
    "  \n",
    "\n",
    "print()\n",
    "print('RUNNER: Predefined action sequence complete.')\n",
    "organism.handle_sensor_input(game.sensors())\n",
    "\n"
   ]
  },
  {
   "cell_type": "code",
   "execution_count": 3,
   "metadata": {},
   "outputs": [
    {
     "data": {
      "text/plain": [
       "{'sensors': ['FORWARD', 'LEFT', 'RIGHT', 'BACK', 'VICTORY'],\n",
       " 'actuators': ['GO', 'TURN LEFT', 'TURN RIGHT', 'TURN BACK']}"
      ]
     },
     "execution_count": 3,
     "metadata": {},
     "output_type": "execute_result"
    }
   ],
   "source": [
    "game.io_vector_labels()"
   ]
  },
  {
   "cell_type": "code",
   "execution_count": 10,
   "metadata": {
    "scrolled": true
   },
   "outputs": [
    {
     "name": "stdout",
     "output_type": "stream",
     "text": [
      "# learned vectors: 126\n",
      "[0, 0, 0, 0, 0]: 14%\n",
      "[0, 0, 0, 0, 1]: 35%\n",
      "[0, 0, 0, 1, 0]:  8%\n",
      "[0, 0, 0, 1, 1]: 12%\n",
      "[0, 0, 1, 0, 0]: -1%\n",
      "[0, 0, 1, 0, 1]: 15%\n",
      "[0, 0, 1, 1, 0]: -2%\n",
      "[0, 0, 1, 1, 1]:  4%\n",
      "[0, 1, 0, 0, 0]: 16%\n",
      "[0, 1, 0, 0, 1]: 13%\n",
      "[0, 1, 0, 1, 0]: 35%\n",
      "[0, 1, 0, 1, 1]: 17%\n",
      "[0, 1, 1, 0, 0]: -4%\n",
      "[0, 1, 1, 0, 1]: -1%\n",
      "[0, 1, 1, 1, 0]: 11%\n",
      "[0, 1, 1, 1, 1]:  2%\n",
      "[1, 0, 0, 0, 0]: -4%\n",
      "[1, 0, 0, 0, 1]: 12%\n",
      "[1, 0, 0, 1, 0]: 67%\n",
      "[1, 0, 0, 1, 1]: -1%\n",
      "[1, 0, 1, 0, 0]: -4%\n",
      "[1, 0, 1, 0, 1]: 15%\n",
      "[1, 0, 1, 1, 0]: -3%\n",
      "[1, 0, 1, 1, 1]: -3%\n",
      "[1, 1, 0, 0, 0]:  0%\n",
      "[1, 1, 0, 0, 1]: -3%\n",
      "[1, 1, 0, 1, 0]:  9%\n",
      "[1, 1, 0, 1, 1]: -4%\n",
      "[1, 1, 1, 0, 0]: -8%\n",
      "[1, 1, 1, 0, 1]: -2%\n",
      "[1, 1, 1, 1, 0]:  8%\n"
     ]
    }
   ],
   "source": [
    "print('# learned vectors: {}'.format(len(organism.experience_repo.experiences)))\n",
    "for i in range(0,31):\n",
    "    a = [int(x) for x in list('{:05b}'.format(i))]\n",
    "    est = organism.outcome_likelihood_estimator.estimate( ipl.nnplanner.Experience([1, 0, 0, 1, 0], [1, 0, 0, 0],  a))\n",
    "    print('{}: {:2d}%'.format(a, int(est*100)))\n"
   ]
  },
  {
   "cell_type": "code",
   "execution_count": 9,
   "metadata": {},
   "outputs": [
    {
     "name": "stdout",
     "output_type": "stream",
     "text": [
      "Run #0\n",
      "Run #1\n",
      "Run #2\n",
      "Run #3\n",
      "Run #4\n",
      "Run #5\n",
      "Run #6\n",
      "Run #7\n",
      "Run #8\n",
      "Run #9\n"
     ]
    }
   ],
   "source": [
    "organism.verbosity = 0\n",
    "for i in range(0, 10):\n",
    "    print('Run #{}'.format(i))\n",
    "    game = ipl.games.ElMazeGame(3,2)    \n",
    "\n",
    "    organism.reset_state()\n",
    "    for pa in action_program:\n",
    "      organism.handle_sensor_input(game.sensors())\n",
    "      oa = organism.choose_action(pa)\n",
    "      game.act(oa.actuators)\n",
    "    organism.handle_sensor_input(game.sensors())\n",
    "    "
   ]
  }
 ],
 "metadata": {
  "kernelspec": {
   "display_name": "Python 3",
   "language": "python",
   "name": "python3"
  },
  "language_info": {
   "codemirror_mode": {
    "name": "ipython",
    "version": 3
   },
   "file_extension": ".py",
   "mimetype": "text/x-python",
   "name": "python",
   "nbconvert_exporter": "python",
   "pygments_lexer": "ipython3",
   "version": "3.6.7"
  }
 },
 "nbformat": 4,
 "nbformat_minor": 2
}
