{
 "cells": [
  {
   "cell_type": "code",
   "execution_count": 1,
   "metadata": {},
   "outputs": [],
   "source": [
    "import ipl \n",
    "import pickle\n",
    "\n",
    "game = ipl.games.ElMazeGame(3,2)\n",
    "organism = ipl.Organism()\n",
    "organism.verbosity = 1\n",
    "\n",
    "# organism.randomtest = True\n",
    "organism.configure(game.player_config())\n",
    "\n",
    "if not organism.randomtest:\n",
    "  try:\n",
    "    exprepo = pickle.load(open(\"organism-exprepo.p\", \"rb\"))\n",
    "    organism.experience_repo = exprepo\n",
    "  except FileNotFoundError:\n",
    "    print('No experience repository file found. Starting from scratch.')\n",
    "\n",
    "    "
   ]
  },
  {
   "cell_type": "code",
   "execution_count": 2,
   "metadata": {
    "scrolled": true
   },
   "outputs": [
    {
     "ename": "NameError",
     "evalue": "name 'action_program' is not defined",
     "output_type": "error",
     "traceback": [
      "\u001b[0;31m---------------------------------------------------------------------------\u001b[0m",
      "\u001b[0;31mNameError\u001b[0m                                 Traceback (most recent call last)",
      "\u001b[0;32m<ipython-input-2-66ae80ad1c37>\u001b[0m in \u001b[0;36m<module>\u001b[0;34m\u001b[0m\n\u001b[1;32m      3\u001b[0m \u001b[0morganism\u001b[0m\u001b[0;34m.\u001b[0m\u001b[0mverbosity\u001b[0m \u001b[0;34m=\u001b[0m \u001b[0;36m1\u001b[0m\u001b[0;34m\u001b[0m\u001b[0;34m\u001b[0m\u001b[0m\n\u001b[1;32m      4\u001b[0m \u001b[0morganism\u001b[0m\u001b[0;34m.\u001b[0m\u001b[0mreset_state\u001b[0m\u001b[0;34m(\u001b[0m\u001b[0;34m)\u001b[0m\u001b[0;34m\u001b[0m\u001b[0;34m\u001b[0m\u001b[0m\n\u001b[0;32m----> 5\u001b[0;31m \u001b[0;32mfor\u001b[0m \u001b[0miturn\u001b[0m\u001b[0;34m,\u001b[0m \u001b[0mpa\u001b[0m \u001b[0;32min\u001b[0m \u001b[0menumerate\u001b[0m\u001b[0;34m(\u001b[0m\u001b[0maction_program\u001b[0m\u001b[0;34m)\u001b[0m\u001b[0;34m:\u001b[0m\u001b[0;34m\u001b[0m\u001b[0;34m\u001b[0m\u001b[0m\n\u001b[0m\u001b[1;32m      6\u001b[0m   \u001b[0mprint\u001b[0m\u001b[0;34m(\u001b[0m\u001b[0;34m'\\nRUNNER: Turn {}'\u001b[0m\u001b[0;34m.\u001b[0m\u001b[0mformat\u001b[0m\u001b[0;34m(\u001b[0m\u001b[0miturn\u001b[0m \u001b[0;34m+\u001b[0m \u001b[0;36m1\u001b[0m\u001b[0;34m)\u001b[0m\u001b[0;34m)\u001b[0m\u001b[0;34m\u001b[0m\u001b[0;34m\u001b[0m\u001b[0m\n\u001b[1;32m      7\u001b[0m   \u001b[0morganism\u001b[0m\u001b[0;34m.\u001b[0m\u001b[0mhandle_sensor_input\u001b[0m\u001b[0;34m(\u001b[0m\u001b[0mgame\u001b[0m\u001b[0;34m.\u001b[0m\u001b[0msensors\u001b[0m\u001b[0;34m(\u001b[0m\u001b[0;34m)\u001b[0m\u001b[0;34m)\u001b[0m\u001b[0;34m\u001b[0m\u001b[0;34m\u001b[0m\u001b[0m\n",
      "\u001b[0;31mNameError\u001b[0m: name 'action_program' is not defined"
     ]
    }
   ],
   "source": [
    "game = ipl.games.ElMazeGame(3,2)\n",
    "\n",
    "organism.verbosity = 1\n",
    "organism.reset_state()\n",
    "for iturn, pa in enumerate(action_program):\n",
    "  print('\\nRUNNER: Turn {}'.format(iturn + 1))\n",
    "  organism.handle_sensor_input(game.sensors())\n",
    "\n",
    "  oa = organism.choose_action(pa)\n",
    "  if oa.outcomes and len(oa.outcomes):\n",
    "    print('Expected outcomes:')\n",
    "    for outcome in oa.outcomes:\n",
    "      print('\\t{}'.format(outcome))\n",
    "  else:\n",
    "    print('(Action has no outcomes)')\n",
    "\n",
    "  game.act(oa.actuators)\n",
    "  \n",
    "\n",
    "print()\n",
    "print('RUNNER: Predefined action sequence complete.')\n",
    "organism.handle_sensor_input(game.sensors())\n",
    "\n",
    "organism.maintenance()"
   ]
  },
  {
   "cell_type": "code",
   "execution_count": null,
   "metadata": {},
   "outputs": [],
   "source": [
    "game.io_vector_labels()"
   ]
  },
  {
   "cell_type": "code",
   "execution_count": null,
   "metadata": {
    "scrolled": true
   },
   "outputs": [],
   "source": [
    "print('# learned vectors: {}'.format(len(organism.experience_repo.experiences)))\n",
    "retval = []\n",
    "\n",
    "for i in range(0,31):\n",
    "    a = [int(x) for x in list('{:05b}'.format(i))]\n",
    "    est = organism.outcome_likelihood_estimator.estimate( ipl.nnplanner.Experience([0, 1, 0, 1, 0], [0, 1, 0, 0],  a))\n",
    "    retval.append( (a, int(est*100) ) )\n",
    "\n",
    "retval.sort(key=lambda x: -x[1])\n",
    "retval"
   ]
  },
  {
   "cell_type": "code",
   "execution_count": null,
   "metadata": {},
   "outputs": [],
   "source": [
    "organism.verbosity = 0\n",
    "for i in range(0, 20):\n",
    "    print('Run #{}'.format(i))\n",
    "    game = ipl.games.ElMazeGame(3,2)    \n",
    "\n",
    "    organism.reset_state()\n",
    "    for pa in action_program:\n",
    "      organism.handle_sensor_input(game.sensors())\n",
    "      oa = organism.choose_action(pa)\n",
    "      game.act(oa.actuators)\n",
    "    \n",
    "\n",
    "    organism.handle_sensor_input(game.sensors())\n",
    "    organism.maintenance()\n",
    "    "
   ]
  },
  {
   "cell_type": "code",
   "execution_count": null,
   "metadata": {},
   "outputs": [],
   "source": [
    "len(organism.experience_repo)"
   ]
  },
  {
   "cell_type": "code",
   "execution_count": 32,
   "metadata": {},
   "outputs": [
    {
     "data": {
      "text/plain": [
       "[([0, 1, 1, 0, 0], 103),\n",
       " ([1, 1, 1, 0, 0], 17),\n",
       " ([0, 0, 1, 1, 0], 13),\n",
       " ([0, 1, 1, 1, 0], 12),\n",
       " ([1, 0, 1, 0, 1], 12),\n",
       " ([0, 1, 0, 0, 0], 10),\n",
       " ([0, 1, 1, 0, 1], 10),\n",
       " ([0, 0, 1, 0, 0], 7),\n",
       " ([0, 1, 1, 1, 1], 6),\n",
       " ([0, 0, 0, 0, 1], 5),\n",
       " ([0, 0, 1, 0, 1], 5),\n",
       " ([0, 1, 0, 0, 1], 5),\n",
       " ([1, 1, 1, 0, 1], 5),\n",
       " ([0, 1, 0, 1, 1], 1),\n",
       " ([1, 0, 0, 0, 1], 1),\n",
       " ([1, 1, 0, 0, 0], 1),\n",
       " ([1, 1, 1, 1, 0], 1),\n",
       " ([0, 0, 1, 1, 1], 0),\n",
       " ([0, 1, 0, 1, 0], 0),\n",
       " ([1, 0, 0, 1, 0], 0),\n",
       " ([0, 0, 0, 1, 1], -4),\n",
       " ([1, 1, 0, 1, 1], -4),\n",
       " ([1, 0, 1, 1, 0], -5),\n",
       " ([1, 0, 0, 1, 1], -6),\n",
       " ([1, 0, 1, 1, 1], -6),\n",
       " ([0, 0, 0, 1, 0], -7),\n",
       " ([1, 0, 1, 0, 0], -8),\n",
       " ([1, 1, 0, 0, 1], -8),\n",
       " ([1, 1, 0, 1, 0], -8),\n",
       " ([0, 0, 0, 0, 0], -23),\n",
       " ([1, 0, 0, 0, 0], -36)]"
      ]
     },
     "execution_count": 32,
     "metadata": {},
     "output_type": "execute_result"
    }
   ],
   "source": [
    "import sklearn.neural_network\n",
    "neuralnet = sklearn.neural_network.MLPRegressor(\n",
    "        hidden_layer_sizes=(448)\n",
    "    )\n",
    "\n",
    "\n",
    "td = organism.experience_repo.training_data()\n",
    "neuralnet.fit(td[0], td[1])\n",
    "\n",
    "retval = []\n",
    "\n",
    "for i in range(0,31):\n",
    "    a = [int(x) for x in list('{:05b}'.format(i))]\n",
    "    est = neuralnet.predict([ [1, 0, 0, 1, 0] + [0, 1, 0, 0] + a ])[0]\n",
    "    retval.append( (a, int(est*100) ) )\n",
    "\n",
    "retval.sort(key=lambda x: -x[1])\n",
    "retval"
   ]
  },
  {
   "cell_type": "code",
   "execution_count": null,
   "metadata": {},
   "outputs": [],
   "source": [
    "len(organism.experience_repo)"
   ]
  },
  {
   "cell_type": "code",
   "execution_count": 12,
   "metadata": {},
   "outputs": [],
   "source": [
    "organism.outcome_likelihood_estimator.learn(organism.experience_repo)"
   ]
  },
  {
   "cell_type": "code",
   "execution_count": 15,
   "metadata": {},
   "outputs": [
    {
     "data": {
      "text/plain": [
       "0.4404706554890489"
      ]
     },
     "execution_count": 15,
     "metadata": {},
     "output_type": "execute_result"
    }
   ],
   "source": [
    "organism.outcome_likelihood_estimator.estimate(ipl.nnplanner.Experience([1,0,0,0,0], [1,0,0,0], [0,1,1,1,1]))"
   ]
  },
  {
   "cell_type": "code",
   "execution_count": null,
   "metadata": {},
   "outputs": [],
   "source": [
    "begin_exps = [e.training_vector() for e in organism.experience_repo.experiences]\n",
    "begin_exps[:10]"
   ]
  },
  {
   "cell_type": "code",
   "execution_count": 3,
   "metadata": {},
   "outputs": [
    {
     "data": {
      "text/plain": [
       "array([0.8881933])"
      ]
     },
     "execution_count": 3,
     "metadata": {},
     "output_type": "execute_result"
    }
   ],
   "source": [
    "import sklearn\n",
    "\n",
    "#(tX, ty) = ([b[0] for b in begin_exps], [b[1] for b in begin_exps])\n",
    "(tX, ty) = organism.experience_repo.training_data()\n",
    "\n",
    "nn = sklearn.neural_network.MLPRegressor(hidden_layer_sizes=(32, 32, 5), solver='lbfgs')\n",
    "nn.fit(tX, ty)\n",
    "\n",
    "nn.predict([[1,0,0,0,0] + [1,0,0,0] + [1,0,0,1,0]])"
   ]
  },
  {
   "cell_type": "code",
   "execution_count": null,
   "metadata": {},
   "outputs": [],
   "source": []
  }
 ],
 "metadata": {
  "kernelspec": {
   "display_name": "Python 3",
   "language": "python",
   "name": "python3"
  },
  "language_info": {
   "codemirror_mode": {
    "name": "ipython",
    "version": 3
   },
   "file_extension": ".py",
   "mimetype": "text/x-python",
   "name": "python",
   "nbconvert_exporter": "python",
   "pygments_lexer": "ipython3",
   "version": "3.6.7"
  }
 },
 "nbformat": 4,
 "nbformat_minor": 2
}
