{
 "cells": [
  {
   "cell_type": "code",
   "execution_count": 1,
   "metadata": {},
   "outputs": [],
   "source": [
    "import ipl \n",
    "\n",
    "organism = ipl.Organism()\n",
    "organism.verbosity = 1\n",
    "\n",
    "game = ipl.games.ElMazeGame(3,2)\n",
    "organism.configure(game.player_config())\n",
    "\n",
    "action_program = [\n",
    "    [1, 0, 0, 0],\n",
    "    [1, 0, 0, 0],\n",
    "    [1, 0, 0, 0],\n",
    "    [0, 1, 0, 0],\n",
    "    [1, 0, 0, 0],\n",
    "    [1, 0, 0, 0]\n",
    "]\n"
   ]
  },
  {
   "cell_type": "code",
   "execution_count": 8,
   "metadata": {
    "scrolled": true
   },
   "outputs": [
    {
     "name": "stdout",
     "output_type": "stream",
     "text": [
      "\n",
      "RUNNER: Turn 1\n",
      "ORGANISM: Received sensor input: [1, 0, 0, 0, 0]\n",
      "ORGANISM: Generated actions (len=3)\n",
      "\t ACTION: [1, 0, 0, 0] (-> 3 outcomes) $1.00\n",
      "\t\t OUTCOME: [1, 0, 0, 1, 0] (96% $1.00 = $0.97)\n",
      "\t\t OUTCOME: [1, 1, 1, 0, 0] ( 1% $1.00 = $0.02)\n",
      "\t\t OUTCOME: [1, 0, 1, 0, 0] ( 1% $1.00 = $0.01)\n",
      "\t ACTION: [0, 0, 0, 0] (-> 3 outcomes) $1.00\n",
      "\t\t OUTCOME: [1, 0, 0, 1, 0] (37% $1.00 = $0.38)\n",
      "\t\t OUTCOME: [1, 1, 0, 0, 0] (37% $1.00 = $0.37)\n",
      "\t\t OUTCOME: [1, 0, 0, 0, 0] (24% $1.00 = $0.25)\n",
      "\t ACTION: [1, 0, 0, 1] (-> 3 outcomes) $1.00\n",
      "\t\t OUTCOME: [1, 0, 0, 1, 0] (78% $1.00 = $0.79)\n",
      "\t\t OUTCOME: [0, 0, 0, 0, 1] (16% $1.00 = $0.16)\n",
      "\t\t OUTCOME: [0, 1, 0, 0, 1] ( 5% $1.00 = $0.05)\n",
      "ORGANISM: Committing to action: ACTION: [1, 0, 0, 0] (-> 3 outcomes) $1.00\n",
      "Expected outcomes:\n",
      "\tOUTCOME: [1, 0, 0, 1, 0] (96% $1.00 = $0.97)\n",
      "\tOUTCOME: [1, 1, 1, 0, 0] ( 1% $1.00 = $0.02)\n",
      "\tOUTCOME: [1, 0, 1, 0, 0] ( 1% $1.00 = $0.01)\n",
      "\n",
      "RUNNER: Turn 2\n",
      "ORGANISM: Received sensor input: [1, 0, 0, 1, 0]\n",
      "ORGANISM: Experience repo size: 396\n",
      "ORGANISM: Generated actions (len=3)\n",
      "\t ACTION: [0, 1, 0, 0] (-> 3 outcomes) $0.83\n",
      "\t\t OUTCOME: [1, 1, 0, 0, 0] (71% $0.80 = $0.58)\n",
      "\t\t OUTCOME: [1, 0, 0, 1, 0] (15% $0.80 = $0.12)\n",
      "\t\t OUTCOME: [1, 1, 0, 0, 1] (13% $1.00 = $0.13)\n",
      "\t ACTION: [0, 1, 1, 0] (-> 3 outcomes) $0.82\n",
      "\t\t OUTCOME: [1, 1, 0, 0, 0] (52% $0.80 = $0.42)\n",
      "\t\t OUTCOME: [1, 0, 0, 0, 0] (25% $0.71 = $0.18)\n",
      "\t\t OUTCOME: [1, 1, 0, 0, 1] (21% $1.00 = $0.22)\n",
      "\t ACTION: [1, 1, 0, 0] (-> 3 outcomes) $0.77\n",
      "\t\t OUTCOME: [1, 0, 0, 0, 0] (33% $0.71 = $0.24)\n",
      "\t\t OUTCOME: [1, 0, 0, 1, 0] (33% $0.80 = $0.27)\n",
      "\t\t OUTCOME: [1, 1, 0, 0, 0] (32% $0.80 = $0.27)\n",
      "ORGANISM: Committing to action: ACTION: [1, 0, 0, 0] (-> 3 outcomes) $0.75\n",
      "Expected outcomes:\n",
      "\tOUTCOME: [0, 0, 0, 0, 1] (34% $1.00 = $0.34)\n",
      "\tOUTCOME: [1, 0, 0, 1, 0] (33% $0.80 = $0.27)\n",
      "\tOUTCOME: [0, 1, 0, 1, 0] (32% $0.45 = $0.14)\n",
      "\n",
      "RUNNER: Turn 3\n",
      "ORGANISM: Received sensor input: [1, 0, 0, 1, 0]\n",
      "ORGANISM: Experience repo size: 399\n",
      "ORGANISM: Generated actions (len=3)\n",
      "\t ACTION: [1, 0, 0, 0] (-> 3 outcomes) $1.00\n",
      "\t\t OUTCOME: [1, 0, 0, 1, 0] (34% $0.99 = $0.34)\n",
      "\t\t OUTCOME: [0, 0, 0, 0, 1] (33% $1.00 = $0.34)\n",
      "\t\t OUTCOME: [0, 1, 0, 1, 0] (31% $1.00 = $0.32)\n",
      "\t ACTION: [0, 0, 0, 0] (-> 3 outcomes) $1.00\n",
      "\t\t OUTCOME: [1, 0, 0, 1, 0] (37% $0.99 = $0.38)\n",
      "\t\t OUTCOME: [0, 0, 0, 0, 1] (35% $1.00 = $0.35)\n",
      "\t\t OUTCOME: [0, 1, 0, 1, 0] (27% $1.00 = $0.27)\n",
      "\t ACTION: [1, 1, 1, 1] (-> 3 outcomes) $1.00\n",
      "\t\t OUTCOME: [0, 1, 0, 1, 0] (41% $1.00 = $0.42)\n",
      "\t\t OUTCOME: [1, 0, 0, 1, 0] (33% $0.99 = $0.34)\n",
      "\t\t OUTCOME: [0, 0, 0, 1, 1] (24% $1.00 = $0.24)\n",
      "ORGANISM: Committing to action: ACTION: [1, 0, 0, 0] (-> 3 outcomes) $1.00\n",
      "Expected outcomes:\n",
      "\tOUTCOME: [1, 0, 0, 1, 0] (34% $0.99 = $0.34)\n",
      "\tOUTCOME: [0, 0, 0, 0, 1] (33% $1.00 = $0.34)\n",
      "\tOUTCOME: [0, 1, 0, 1, 0] (31% $1.00 = $0.32)\n",
      "\n",
      "RUNNER: Turn 4\n",
      "ORGANISM: Received sensor input: [0, 1, 0, 1, 0]\n",
      "ORGANISM: Experience repo size: 402\n",
      "ORGANISM: Generated actions (len=3)\n",
      "\t ACTION: [0, 1, 0, 0] (-> 3 outcomes) $0.85\n",
      "\t\t OUTCOME: [1, 1, 0, 0, 0] (97% $0.85 = $0.82)\n",
      "\t\t OUTCOME: [1, 1, 1, 0, 1] ( 1% $1.00 = $0.02)\n",
      "\t\t OUTCOME: [0, 1, 1, 0, 1] ( 1% $1.00 = $0.01)\n",
      "\t ACTION: [1, 1, 1, 0] (-> 3 outcomes) $0.85\n",
      "\t\t OUTCOME: [1, 0, 0, 1, 0] (36% $0.84 = $0.31)\n",
      "\t\t OUTCOME: [0, 0, 0, 1, 0] (34% $0.73 = $0.25)\n",
      "\t\t OUTCOME: [1, 0, 0, 1, 1] (29% $1.00 = $0.29)\n",
      "\t ACTION: [0, 0, 1, 0] (-> 3 outcomes) $0.85\n",
      "\t\t OUTCOME: [0, 0, 0, 1, 0] (37% $0.73 = $0.27)\n",
      "\t\t OUTCOME: [1, 0, 0, 1, 0] (32% $0.84 = $0.27)\n",
      "\t\t OUTCOME: [0, 0, 0, 1, 1] (30% $1.00 = $0.30)\n",
      "ORGANISM: Committing to action: ACTION: [0, 1, 0, 0] (-> 3 outcomes) $0.85\n",
      "Expected outcomes:\n",
      "\tOUTCOME: [1, 1, 0, 0, 0] (97% $0.85 = $0.82)\n",
      "\tOUTCOME: [1, 1, 1, 0, 1] ( 1% $1.00 = $0.02)\n",
      "\tOUTCOME: [0, 1, 1, 0, 1] ( 1% $1.00 = $0.01)\n",
      "\n",
      "RUNNER: Turn 5\n",
      "ORGANISM: Received sensor input: [1, 1, 0, 0, 0]\n",
      "ORGANISM: Experience repo size: 405\n",
      "ORGANISM: Generated actions (len=3)\n",
      "\t ACTION: [1, 1, 1, 1] (-> 3 outcomes) $1.00\n",
      "\t\t OUTCOME: [1, 0, 0, 1, 0] (64% $1.00 = $0.64)\n",
      "\t\t OUTCOME: [1, 0, 1, 1, 1] (18% $1.00 = $0.19)\n",
      "\t\t OUTCOME: [1, 1, 1, 1, 1] (17% $1.00 = $0.17)\n",
      "\t ACTION: [1, 0, 1, 1] (-> 3 outcomes) $1.00\n",
      "\t\t OUTCOME: [1, 0, 0, 1, 0] (60% $1.00 = $0.61)\n",
      "\t\t OUTCOME: [1, 0, 0, 1, 1] (21% $1.00 = $0.21)\n",
      "\t\t OUTCOME: [1, 0, 1, 1, 1] (17% $1.00 = $0.18)\n",
      "\t ACTION: [1, 1, 0, 0] (-> 3 outcomes) $1.00\n",
      "\t\t OUTCOME: [1, 0, 0, 1, 0] (70% $1.00 = $0.71)\n",
      "\t\t OUTCOME: [0, 1, 1, 0, 0] (14% $0.99 = $0.15)\n",
      "\t\t OUTCOME: [0, 1, 1, 0, 1] (14% $1.00 = $0.15)\n",
      "ORGANISM: Committing to action: ACTION: [1, 0, 0, 0] (-> 3 outcomes) $1.00\n",
      "Expected outcomes:\n",
      "\tOUTCOME: [1, 0, 0, 1, 0] (91% $1.00 = $0.91)\n",
      "\tOUTCOME: [0, 1, 1, 0, 1] ( 7% $1.00 = $0.08)\n",
      "\tOUTCOME: [0, 1, 1, 1, 1] ( 1% $1.00 = $0.01)\n",
      "\n",
      "RUNNER: Turn 6\n",
      "ORGANISM: Received sensor input: [1, 0, 0, 1, 0]\n",
      "ORGANISM: Experience repo size: 408\n",
      "ORGANISM: Generated actions (len=3)\n",
      "\t ACTION: [0, 0, 0, 0] (-> 3 outcomes) $1.00\n",
      "\t\t OUTCOME: [1, 0, 0, 1, 0] (100% $1.00 = $1.00)\n",
      "\t\t OUTCOME: [0, 1, 0, 0, 1] ( 0% $1.00 = $0.00)\n",
      "\t\t OUTCOME: [1, 0, 0, 0, 1] ( 0% $1.00 = $0.00)\n",
      "\t ACTION: [1, 1, 1, 1] (-> 3 outcomes) $1.00\n",
      "\t\t OUTCOME: [0, 0, 0, 1, 0] (44% $1.00 = $0.44)\n",
      "\t\t OUTCOME: [0, 0, 0, 0, 0] (34% $1.00 = $0.35)\n",
      "\t\t OUTCOME: [0, 0, 0, 0, 1] (20% $1.00 = $0.21)\n",
      "\t ACTION: [0, 0, 1, 0] (-> 3 outcomes) $1.00\n",
      "\t\t OUTCOME: [0, 0, 0, 1, 0] (39% $1.00 = $0.40)\n",
      "\t\t OUTCOME: [0, 0, 1, 1, 0] (32% $1.00 = $0.32)\n",
      "\t\t OUTCOME: [0, 1, 1, 0, 1] (28% $1.00 = $0.28)\n",
      "ORGANISM: Committing to action: ACTION: [1, 0, 0, 0] (-> 3 outcomes) $1.00\n",
      "Expected outcomes:\n",
      "\tOUTCOME: [1, 0, 0, 1, 0] (34% $1.00 = $0.34)\n",
      "\tOUTCOME: [0, 0, 0, 0, 1] (33% $1.00 = $0.33)\n",
      "\tOUTCOME: [0, 1, 0, 1, 0] (32% $1.00 = $0.33)\n",
      "\n",
      "RUNNER: Predefined action sequence complete.\n",
      "ORGANISM: Received sensor input: [0, 0, 0, 0, 1]\n",
      "ORGANISM: Experience repo size: 411\n",
      "Repo size before consolidation: 411\n",
      "Repo size after consolidation: 411\n"
     ]
    }
   ],
   "source": [
    "game = ipl.games.ElMazeGame(3,2)\n",
    "\n",
    "organism.verbosity = 1\n",
    "organism.reset_state()\n",
    "for iturn, pa in enumerate(action_program):\n",
    "  print('\\nRUNNER: Turn {}'.format(iturn + 1))\n",
    "  organism.handle_sensor_input(game.sensors())\n",
    "\n",
    "  oa = organism.choose_action(pa)\n",
    "  if oa.outcomes and len(oa.outcomes):\n",
    "    print('Expected outcomes:')\n",
    "    for outcome in oa.outcomes:\n",
    "      print('\\t{}'.format(outcome))\n",
    "  else:\n",
    "    print('(Action has no outcomes)')\n",
    "\n",
    "  game.act(oa.actuators)\n",
    "  \n",
    "\n",
    "print()\n",
    "print('RUNNER: Predefined action sequence complete.')\n",
    "organism.handle_sensor_input(game.sensors())\n",
    "\n",
    "organism.maintenance()"
   ]
  },
  {
   "cell_type": "code",
   "execution_count": 3,
   "metadata": {},
   "outputs": [
    {
     "data": {
      "text/plain": [
       "{'sensors': ['FORWARD', 'LEFT', 'RIGHT', 'BACK', 'VICTORY'],\n",
       " 'actuators': ['GO', 'TURN LEFT', 'TURN RIGHT', 'TURN BACK']}"
      ]
     },
     "execution_count": 3,
     "metadata": {},
     "output_type": "execute_result"
    }
   ],
   "source": [
    "game.io_vector_labels()"
   ]
  },
  {
   "cell_type": "code",
   "execution_count": 4,
   "metadata": {
    "scrolled": true
   },
   "outputs": [
    {
     "name": "stdout",
     "output_type": "stream",
     "text": [
      "# learned vectors: 22\n"
     ]
    },
    {
     "data": {
      "text/plain": [
       "[([0, 0, 0, 0, 1], 100),\n",
       " ([1, 0, 0, 0, 1], 100),\n",
       " ([1, 1, 0, 0, 0], 100),\n",
       " ([1, 1, 0, 0, 1], 100),\n",
       " ([1, 1, 1, 0, 1], 87),\n",
       " ([0, 1, 0, 0, 1], 85),\n",
       " ([1, 0, 1, 0, 1], 70),\n",
       " ([1, 0, 0, 0, 0], 69),\n",
       " ([1, 1, 1, 0, 0], 65),\n",
       " ([0, 1, 0, 0, 0], 55),\n",
       " ([0, 1, 1, 1, 1], 47),\n",
       " ([0, 0, 1, 0, 1], 46),\n",
       " ([0, 0, 0, 0, 0], 42),\n",
       " ([1, 0, 1, 0, 0], 36),\n",
       " ([1, 1, 0, 1, 1], 33),\n",
       " ([0, 1, 0, 1, 1], 29),\n",
       " ([1, 0, 1, 1, 1], 26),\n",
       " ([0, 0, 1, 1, 1], 25),\n",
       " ([0, 1, 1, 0, 1], 22),\n",
       " ([0, 1, 1, 0, 0], 18),\n",
       " ([1, 0, 0, 1, 1], 15),\n",
       " ([1, 1, 0, 1, 0], 13),\n",
       " ([0, 0, 0, 1, 1], 10),\n",
       " ([0, 0, 1, 0, 0], 8),\n",
       " ([1, 1, 1, 1, 0], 8),\n",
       " ([0, 1, 1, 1, 0], 5),\n",
       " ([0, 0, 0, 1, 0], 0),\n",
       " ([0, 0, 1, 1, 0], 0),\n",
       " ([0, 1, 0, 1, 0], 0),\n",
       " ([1, 0, 0, 1, 0], 0),\n",
       " ([1, 0, 1, 1, 0], 0)]"
      ]
     },
     "execution_count": 4,
     "metadata": {},
     "output_type": "execute_result"
    }
   ],
   "source": [
    "print('# learned vectors: {}'.format(len(organism.experience_repo.experiences)))\n",
    "retval = []\n",
    "\n",
    "for i in range(0,31):\n",
    "    a = [int(x) for x in list('{:05b}'.format(i))]\n",
    "    est = organism.outcome_likelihood_estimator.estimate( ipl.nnplanner.Experience([0, 1, 0, 1, 0], [0, 1, 0, 0],  a))\n",
    "    retval.append( (a, int(est*100) ) )\n",
    "\n",
    "retval.sort(key=lambda x: -x[1])\n",
    "retval"
   ]
  },
  {
   "cell_type": "code",
   "execution_count": 5,
   "metadata": {},
   "outputs": [
    {
     "name": "stdout",
     "output_type": "stream",
     "text": [
      "Run #0\n",
      "Run #1\n",
      "Run #2\n",
      "Run #3\n",
      "Run #4\n",
      "Run #5\n",
      "Run #6\n",
      "Run #7\n",
      "Run #8\n",
      "Run #9\n",
      "Run #10\n",
      "Run #11\n",
      "Run #12\n",
      "Run #13\n",
      "Run #14\n",
      "Run #15\n",
      "Run #16\n",
      "Run #17\n",
      "Run #18\n",
      "Run #19\n"
     ]
    }
   ],
   "source": [
    "organism.verbosity = 0\n",
    "for i in range(0, 20):\n",
    "    print('Run #{}'.format(i))\n",
    "    game = ipl.games.ElMazeGame(3,2)    \n",
    "\n",
    "    organism.reset_state()\n",
    "    for pa in action_program:\n",
    "      organism.handle_sensor_input(game.sensors())\n",
    "      oa = organism.choose_action(pa)\n",
    "      game.act(oa.actuators)\n",
    "    \n",
    "\n",
    "    organism.handle_sensor_input(game.sensors())\n",
    "    organism.maintenance()\n",
    "    "
   ]
  },
  {
   "cell_type": "code",
   "execution_count": 6,
   "metadata": {},
   "outputs": [
    {
     "data": {
      "text/plain": [
       "393"
      ]
     },
     "execution_count": 6,
     "metadata": {},
     "output_type": "execute_result"
    }
   ],
   "source": [
    "len(organism.experience_repo)"
   ]
  },
  {
   "cell_type": "code",
   "execution_count": 7,
   "metadata": {},
   "outputs": [
    {
     "data": {
      "text/plain": [
       "[([0, 0, 0, 0, 1], 36),\n",
       " ([1, 0, 0, 1, 0], 35),\n",
       " ([0, 1, 0, 1, 0], 34),\n",
       " ([1, 0, 0, 0, 1], 4),\n",
       " ([0, 1, 0, 0, 0], 2),\n",
       " ([0, 0, 1, 0, 1], 1),\n",
       " ([1, 0, 1, 0, 1], 1),\n",
       " ([1, 1, 0, 0, 1], 1),\n",
       " ([1, 1, 1, 0, 1], 1),\n",
       " ([0, 0, 0, 0, 0], 0),\n",
       " ([0, 0, 0, 1, 0], 0),\n",
       " ([0, 0, 0, 1, 1], 0),\n",
       " ([0, 0, 1, 1, 0], 0),\n",
       " ([0, 0, 1, 1, 1], 0),\n",
       " ([0, 1, 0, 1, 1], 0),\n",
       " ([0, 1, 1, 0, 1], 0),\n",
       " ([0, 1, 1, 1, 0], 0),\n",
       " ([0, 1, 1, 1, 1], 0),\n",
       " ([1, 0, 0, 0, 0], 0),\n",
       " ([1, 0, 0, 1, 1], 0),\n",
       " ([1, 0, 1, 1, 0], 0),\n",
       " ([1, 0, 1, 1, 1], 0),\n",
       " ([1, 1, 0, 1, 0], 0),\n",
       " ([1, 1, 0, 1, 1], 0),\n",
       " ([1, 1, 1, 0, 0], 0),\n",
       " ([1, 1, 1, 1, 0], 0),\n",
       " ([0, 1, 0, 0, 1], -1),\n",
       " ([0, 1, 1, 0, 0], -1),\n",
       " ([0, 0, 1, 0, 0], -2),\n",
       " ([1, 0, 1, 0, 0], -3),\n",
       " ([1, 1, 0, 0, 0], -3)]"
      ]
     },
     "execution_count": 7,
     "metadata": {},
     "output_type": "execute_result"
    }
   ],
   "source": [
    "import sklearn.neural_network\n",
    "neuralnet = sklearn.neural_network.MLPRegressor(\n",
    "        hidden_layer_sizes=(32, 32),\n",
    "        solver='lbfgs'\n",
    "    )\n",
    "\n",
    "\n",
    "td = organism.experience_repo.training_data()\n",
    "neuralnet.fit(td[0], td[1])\n",
    "\n",
    "retval = []\n",
    "\n",
    "for i in range(0,31):\n",
    "    a = [int(x) for x in list('{:05b}'.format(i))]\n",
    "    est = neuralnet.predict([ [1, 0, 0, 1, 0] + [1, 0, 0, 0] + a ])[0]\n",
    "    retval.append( (a, int(est*100) ) )\n",
    "\n",
    "retval.sort(key=lambda x: -x[1])\n",
    "retval"
   ]
  },
  {
   "cell_type": "code",
   "execution_count": null,
   "metadata": {},
   "outputs": [],
   "source": []
  },
  {
   "cell_type": "code",
   "execution_count": null,
   "metadata": {},
   "outputs": [],
   "source": []
  }
 ],
 "metadata": {
  "kernelspec": {
   "display_name": "Python 3",
   "language": "python",
   "name": "python3"
  },
  "language_info": {
   "codemirror_mode": {
    "name": "ipython",
    "version": 3
   },
   "file_extension": ".py",
   "mimetype": "text/x-python",
   "name": "python",
   "nbconvert_exporter": "python",
   "pygments_lexer": "ipython3",
   "version": "3.6.7"
  }
 },
 "nbformat": 4,
 "nbformat_minor": 2
}
